{
 "cells": [
  {
   "cell_type": "markdown",
   "id": "e1e96e47-4e1d-4b5e-8e0e-407e5008c4d8",
   "metadata": {},
   "source": [
    "## SVM Model"
   ]
  },
  {
   "cell_type": "code",
   "execution_count": 2,
   "id": "34308d9e-a5a4-464a-bc74-401ca4a00bfb",
   "metadata": {},
   "outputs": [],
   "source": [
    "print(\"Importing Libraries...\")\n",
    "import pandas as pd\n",
    "import numpy as np\n",
    "import matplotlib.pyplot as plt\n",
    "from sklearn.model_selection import train_test_split\n",
    "from sklearn.preprocessing import StandardScaler\n",
    "from sklearn.metrics import accuracy_score\n",
    "from sklearn.metrics import classification_report, confusion_matrix\n",
    "import pickle\n",
    "import time\n",
    "from sklearn.svm import SVR\n",
    "print(\"Successfully imported!\")"
   ]
  },
  {
   "cell_type": "code",
   "execution_count": null,
   "id": "6d1c234e-baab-42b8-bd52-b638ae1ccf70",
   "metadata": {},
   "outputs": [],
   "source": [
    "print(\"Reading Datafile...\")\n",
    "updated = pd.read_csv('D:\\ML Files\\checkpoint-5.csv')\n",
    "print(\"Success!\")"
   ]
  },
  {
   "cell_type": "code",
   "execution_count": null,
   "id": "23bfa6d9-fa8b-47e4-989b-579f66083026",
   "metadata": {},
   "outputs": [],
   "source": [
    "updated.head(20)"
   ]
  },
  {
   "cell_type": "code",
   "execution_count": null,
   "id": "60075226-756a-4893-959f-0c1d17b284ac",
   "metadata": {},
   "outputs": [],
   "source": [
    "print(\"Obtaining label...\")\n",
    "cols = 'fare_amount'\n",
    "label = updated[[cols]]\n",
    "label\n",
    "print(\"Obtained labels!\")"
   ]
  },
  {
   "cell_type": "code",
   "execution_count": null,
   "id": "86ccb0a9-fcd9-4869-8a2e-c039572ed561",
   "metadata": {},
   "outputs": [],
   "source": [
    "#checkpoint5 = updated.drop(columns = ['fare_amount', 'pickup_longitude', 'pickup_latitude','dropoff_longitude', 'dropoff_latitude', 'dist', 'time'])\n",
    "checkpoint5 = updated.drop(columns = ['fare_amount', 'pickup_longitude', 'pickup_latitude','dropoff_longitude', 'dropoff_latitude', 'time'])"
   ]
  },
  {
   "cell_type": "code",
   "execution_count": null,
   "id": "f3060939-9148-4101-8b3c-ed0ba0fd0ef7",
   "metadata": {},
   "outputs": [],
   "source": [
    "checkpoint5.head(20)\n",
    "print(\"Dropped columns!\")"
   ]
  },
  {
   "cell_type": "code",
   "execution_count": null,
   "id": "2c021804-bd04-4321-aeaf-1766c750fcf8",
   "metadata": {},
   "outputs": [],
   "source": [
    "# Splitting Dataset into train and test (20% TEST, 80% TRAIN) \n",
    "print('Splitting Dataset...')\n",
    "X_train, X_test, y_train, y_test = train_test_split(checkpoint5, label, test_size = 0.2)\n",
    "print(\"Dataset splitted!\")"
   ]
  },
  {
   "cell_type": "markdown",
   "id": "f6790ef0-fae4-43b2-84cd-f53fb28e3451",
   "metadata": {},
   "source": [
    "### Normalising the values"
   ]
  },
  {
   "cell_type": "code",
   "execution_count": null,
   "id": "7dd15959-2be3-427a-8d57-80ecf1b4a727",
   "metadata": {},
   "outputs": [],
   "source": [
    "X_sc = StandardScaler()\n",
    "y_sc = StandardScaler()"
   ]
  },
  {
   "cell_type": "code",
   "execution_count": null,
   "id": "0ffa548a-39d2-46ca-895e-1e35ba3ff02d",
   "metadata": {},
   "outputs": [],
   "source": [
    "X_train = X_sc.fit_transform(X_train)\n",
    "y_train = y_sc.fit_transform(y_train)"
   ]
  },
  {
   "cell_type": "code",
   "execution_count": null,
   "id": "753c35b2-1d56-4f36-bfc8-e38601f25ba3",
   "metadata": {},
   "outputs": [],
   "source": [
    "print('Fitting the model...')\n",
    "regressor = SVR(kernel = 'rbf')\n",
    "t0 = time.time()\n",
    "regressor.fit(X_train, y_train.values.ravel())\n",
    "t1 = time.time()\n",
    "print('Succeeded in fitting model!')"
   ]
  },
  {
   "cell_type": "code",
   "execution_count": null,
   "id": "6bd3cf68-da5a-4e3a-bbe0-1d0c7b3f46fb",
   "metadata": {},
   "outputs": [],
   "source": [
    "print('Predicting...')\n",
    "y_pred = regressor.predict(X_sc.transform(X_test))\n",
    "t2 = time.time()\n",
    "y_pred = y_sc.inverse_transform(y_pred)\n",
    "print('Predicted all!')"
   ]
  },
  {
   "cell_type": "code",
   "execution_count": null,
   "id": "6733d374-cf1d-4d25-8670-218e4cf22c8d",
   "metadata": {},
   "outputs": [],
   "source": [
    "y_test = y_test.flatten()\n",
    "df = pd.DataFrame({'Predicted value': y_pred, 'Real Value': y_test})\n",
    "df"
   ]
  },
  {
   "cell_type": "code",
   "execution_count": null,
   "id": "7026991b-9d19-484b-a558-0cd8f599b268",
   "metadata": {},
   "outputs": [],
   "source": [
    "time_train = t1-t0\n",
    "time_predict = t2-t1\n",
    "\n",
    "#Get Report\n",
    "print(\"SVM Accuracy Score -> \",accuracy_score(y_pred,y_test)*100)\n",
    "# print(\"Training time: %fs; Prediction time: %fs\" % (time_train, time_predict))\n",
    "report = classification_report(y_test, y_pred, output_dict=True)\n",
    "\n",
    "saved_report = pd.DataFrame(report).transpose()\n",
    "\n",
    "saved_report['Mean squared error'] = mean_squared_error(y_test, y_pred)\n",
    "saved_report['Training Time'] = time_train;\n",
    "# TP, FP, TN, FN = perf_measure(y_test, y_pred);\n",
    "\n",
    "# saved_report['True Positive'] = TP;\n",
    "# saved_report['False Positive'] = FP;\n",
    "# saved_report['True Negative'] = TN;\n",
    "# saved_report['False Negative'] = FN;\n",
    "# saved_report['Training Time'] = time_train;\n",
    "# saved_report['Prediction Time'] = time_predict;\n",
    "\n",
    "# print(\"True Positive: \", TP)\n",
    "# print(\"False Positive: \", FP)\n",
    "# print(\"True Negative: \", TN)\n",
    "# print(\"False Negative: \", FN)\n",
    "\n",
    "# Save Report\n",
    "print(\"Saving report...\")\n",
    "saved_report.to_csv(\"SVM_report.csv\", index=False)\n",
    "print(\"Saved report! \")"
   ]
  },
  {
   "cell_type": "code",
   "execution_count": null,
   "id": "a607d074-83f9-4070-8f74-067f7d663607",
   "metadata": {},
   "outputs": [],
   "source": [
    "print(\"Saving model...\")\n",
    "\n",
    "with open('SVM_Experiment1.pkl', 'wb') as f:\n",
    "\n",
    "   pickle.dump(regressor, f)\n",
    "\n",
    "print(\"Saved model!\")"
   ]
  },
  {
   "cell_type": "code",
   "execution_count": null,
   "id": "514ac54c-71f2-472e-bf79-c828d2199067",
   "metadata": {},
   "outputs": [],
   "source": [
    "# with open('SVM_Experiment1.pkl', 'rb') as f:\n",
    "\n",
    "#    regressor = pickle.load(f)"
   ]
  },
  {
   "cell_type": "code",
   "execution_count": null,
   "id": "27ce8681-c748-40ea-a795-727df877e480",
   "metadata": {},
   "outputs": [],
   "source": []
  }
 ],
 "metadata": {
  "kernelspec": {
   "display_name": "ml",
   "language": "python",
   "name": "ml"
  },
  "language_info": {
   "codemirror_mode": {
    "name": "ipython",
    "version": 3
   },
   "file_extension": ".py",
   "mimetype": "text/x-python",
   "name": "python",
   "nbconvert_exporter": "python",
   "pygments_lexer": "ipython3",
   "version": "3.9.7"
  }
 },
 "nbformat": 4,
 "nbformat_minor": 5
}
