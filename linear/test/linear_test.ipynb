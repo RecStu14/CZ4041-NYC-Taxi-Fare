{
 "cells": [
  {
   "cell_type": "markdown",
   "id": "46d063b8-f229-448a-adcf-3293d3a92679",
   "metadata": {},
   "source": [
    "### Test accuracy"
   ]
  },
  {
   "cell_type": "code",
   "execution_count": 1,
   "id": "1f6b57a5-400d-40f6-aad1-900195f46689",
   "metadata": {},
   "outputs": [
    {
     "name": "stdout",
     "output_type": "stream",
     "text": [
      "Importing libraries...\n",
      "Imported libraries!\n"
     ]
    }
   ],
   "source": [
    "print(\"Importing libraries...\")\n",
    "import pandas as pd\n",
    "import numpy as np\n",
    "import matplotlib.pyplot as plt\n",
    "from sklearn.model_selection import train_test_split\n",
    "from sklearn.preprocessing import StandardScaler\n",
    "import time\n",
    "from sklearn.linear_model import LinearRegression\n",
    "import pickle\n",
    "from sklearn.metrics import accuracy_score\n",
    "from sklearn.metrics import classification_report, confusion_matrix\n",
    "print(\"Imported libraries!\")"
   ]
  },
  {
   "cell_type": "code",
   "execution_count": 3,
   "id": "ff67bd37-cb44-440f-9573-f5a2cbd5b06a",
   "metadata": {},
   "outputs": [],
   "source": [
    "checkpoint5 = pd.read_csv('..\\checkpoint-5.csv',  nrows=10)"
   ]
  },
  {
   "cell_type": "code",
   "execution_count": null,
   "id": "f2d0a7b1-d1a8-44b7-99d5-ef5b70c862df",
   "metadata": {},
   "outputs": [],
   "source": [
    "print(\"Load Model...\")\n",
    "with open('Linear_Experiment1.pkl', 'rb') as f:\n",
    "\n",
    "   regressor = pickle.load(f)\n",
    "print(\"Model loaded!\")"
   ]
  },
  {
   "cell_type": "code",
   "execution_count": null,
   "id": "3f253551-65ea-4b51-b3fb-377130167681",
   "metadata": {},
   "outputs": [],
   "source": [
    "print(\"Preparing data...\")\n",
    "cols = 'fare_amount'\n",
    "label = checkpoint5[[cols]]\n",
    "label"
   ]
  },
  {
   "cell_type": "code",
   "execution_count": null,
   "id": "2f783ebb-85df-4b4e-9218-b657c9152897",
   "metadata": {},
   "outputs": [],
   "source": [
    "del checkpoint5['fare_amount']\n",
    "del checkpoint5['time']\n",
    "# Splitting Dataset into train and test (20% TEST, 80% TRAIN) \n",
    "X_train, X_test, y_train, y_test = train_test_split(checkpoint5, label, test_size = 0.2)"
   ]
  },
  {
   "cell_type": "code",
   "execution_count": null,
   "id": "16ee5fee-ea53-435e-a7f9-f47b2ba3504f",
   "metadata": {},
   "outputs": [],
   "source": [
    "print(\"Doing prediction...\")\n",
    "t1 = time.time()\n",
    "y_pred = regressor.predict(X_sc.transform(X_test))\n",
    "t2 = time.time()\n",
    "y_pred = y_sc.inverse_transform(y_pred)\n",
    "print(\"Finished prediction!\")"
   ]
  },
  {
   "cell_type": "code",
   "execution_count": null,
   "id": "0c318183-af32-4ab7-b5aa-503cc1b609f8",
   "metadata": {},
   "outputs": [],
   "source": [
    "print(\"Saving Report details...\")\n",
    "df = pd.DataFrame({'Predicted value': y_pred, 'Real Value': y_test})\n",
    "df.to_csv(\"predicts.csv\", index=False)\n",
    "# time_train = t1-t0\n",
    "time_predict = t2-t1\n",
    "\n",
    "print(\"Linear Regression Accuracy Score -> \",accuracy_score(y_pred,y_test)*100)\n",
    "# print(\"Training time: %fs; Prediction time: %fs\" % (time_train, time_predict))\n",
    "report = classification_report(y_test, y_pred, output_dict=True)\n",
    "\n",
    "saved_report = pd.DataFrame(report).transpose()\n",
    "\n",
    "saved_report['Mean squared error'] = mean_squared_error(y_test, y_pred)\n",
    "# saved_report['Training Time'] = time_train\n",
    "\n",
    "# Save Report\n",
    "print(\"Saving report...\")\n",
    "saved_report.to_csv(\"Linear_report.csv\", index=False)\n",
    "print(\"Saved report! \")"
   ]
  }
 ],
 "metadata": {
  "kernelspec": {
   "display_name": "ml",
   "language": "python",
   "name": "ml"
  },
  "language_info": {
   "codemirror_mode": {
    "name": "ipython",
    "version": 3
   },
   "file_extension": ".py",
   "mimetype": "text/x-python",
   "name": "python",
   "nbconvert_exporter": "python",
   "pygments_lexer": "ipython3",
   "version": "3.9.7"
  }
 },
 "nbformat": 4,
 "nbformat_minor": 5
}
