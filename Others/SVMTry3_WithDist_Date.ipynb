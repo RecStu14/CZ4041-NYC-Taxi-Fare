{
 "cells": [
  {
   "cell_type": "markdown",
   "id": "e1e96e47-4e1d-4b5e-8e0e-407e5008c4d8",
   "metadata": {},
   "source": [
    "## SVM Model"
   ]
  },
  {
   "cell_type": "code",
   "execution_count": 1,
   "id": "34308d9e-a5a4-464a-bc74-401ca4a00bfb",
   "metadata": {},
   "outputs": [
    {
     "name": "stdout",
     "output_type": "stream",
     "text": [
      "Importing Libraries...\n",
      "Successfully imported!\n"
     ]
    }
   ],
   "source": [
    "print(\"Importing Libraries...\")\n",
    "import pandas as pd\n",
    "import numpy as np\n",
    "import matplotlib.pyplot as plt\n",
    "from sklearn.model_selection import train_test_split\n",
    "from sklearn.preprocessing import StandardScaler\n",
    "import pickle\n",
    "import time\n",
    "from sklearn.svm import SVR\n",
    "from sklearn.metrics import mean_squared_error\n",
    "from sklearn.metrics import mean_absolute_error\n",
    "import math\n",
    "from sklearn.metrics import r2_score\n",
    "print(\"Successfully imported!\")"
   ]
  },
  {
   "cell_type": "code",
   "execution_count": 2,
   "id": "ecd0d39e-9529-457a-b101-108df8cfdd59",
   "metadata": {},
   "outputs": [
    {
     "name": "stdout",
     "output_type": "stream",
     "text": [
      "Reading new dataset...\n",
      "Success!\n"
     ]
    }
   ],
   "source": [
    "print(\"Reading new dataset...\")\n",
    "checkpoint6 = pd.read_csv('D:\\ML Files\\checkpoint-6-combined.csv', nrows=300000)\n",
    "print(\"Success!\")"
   ]
  },
  {
   "cell_type": "code",
   "execution_count": 17,
   "id": "23bfa6d9-fa8b-47e4-989b-579f66083026",
   "metadata": {},
   "outputs": [
    {
     "data": {
      "text/plain": [
       "passenger_count    False\n",
       "day                False\n",
       "weekend            False\n",
       "holiday            False\n",
       "peak_hour          False\n",
       "hotspot            False\n",
       "dist               False\n",
       "date               False\n",
       "year               False\n",
       "month              False\n",
       "dtype: bool"
      ]
     },
     "execution_count": 17,
     "metadata": {},
     "output_type": "execute_result"
    }
   ],
   "source": [
    "checkpoint6.head(20)\n",
    "checkpoint6.isnull().any()"
   ]
  },
  {
   "cell_type": "code",
   "execution_count": 4,
   "id": "60075226-756a-4893-959f-0c1d17b284ac",
   "metadata": {},
   "outputs": [
    {
     "name": "stdout",
     "output_type": "stream",
     "text": [
      "Obtaining label...\n",
      "Obtained labels!\n"
     ]
    }
   ],
   "source": [
    "print(\"Obtaining label...\")\n",
    "cols = 'fare_amount'\n",
    "label = checkpoint6[[cols]]\n",
    "label\n",
    "print(\"Obtained labels!\")"
   ]
  },
  {
   "cell_type": "code",
   "execution_count": 5,
   "id": "86ccb0a9-fcd9-4869-8a2e-c039572ed561",
   "metadata": {},
   "outputs": [],
   "source": [
    "# del checkpoint5['dist']\n",
    "del checkpoint6['time']\n",
    "del checkpoint6['fare_amount']\n",
    "del checkpoint6['pickup_longitude']\n",
    "del checkpoint6['pickup_latitude']\n",
    "del checkpoint6['dropoff_longitude']\n",
    "del checkpoint6['dropoff_latitude']"
   ]
  },
  {
   "cell_type": "code",
   "execution_count": 6,
   "id": "f3060939-9148-4101-8b3c-ed0ba0fd0ef7",
   "metadata": {},
   "outputs": [
    {
     "data": {
      "text/html": [
       "<div>\n",
       "<style scoped>\n",
       "    .dataframe tbody tr th:only-of-type {\n",
       "        vertical-align: middle;\n",
       "    }\n",
       "\n",
       "    .dataframe tbody tr th {\n",
       "        vertical-align: top;\n",
       "    }\n",
       "\n",
       "    .dataframe thead th {\n",
       "        text-align: right;\n",
       "    }\n",
       "</style>\n",
       "<table border=\"1\" class=\"dataframe\">\n",
       "  <thead>\n",
       "    <tr style=\"text-align: right;\">\n",
       "      <th></th>\n",
       "      <th>passenger_count</th>\n",
       "      <th>day</th>\n",
       "      <th>weekend</th>\n",
       "      <th>holiday</th>\n",
       "      <th>peak_hour</th>\n",
       "      <th>hotspot</th>\n",
       "      <th>dist</th>\n",
       "      <th>date</th>\n",
       "      <th>year</th>\n",
       "      <th>month</th>\n",
       "    </tr>\n",
       "  </thead>\n",
       "  <tbody>\n",
       "    <tr>\n",
       "      <th>0</th>\n",
       "      <td>1</td>\n",
       "      <td>0</td>\n",
       "      <td>False</td>\n",
       "      <td>0</td>\n",
       "      <td>1</td>\n",
       "      <td>0</td>\n",
       "      <td>1.030764</td>\n",
       "      <td>15</td>\n",
       "      <td>2009</td>\n",
       "      <td>6</td>\n",
       "    </tr>\n",
       "    <tr>\n",
       "      <th>1</th>\n",
       "      <td>1</td>\n",
       "      <td>1</td>\n",
       "      <td>False</td>\n",
       "      <td>0</td>\n",
       "      <td>1</td>\n",
       "      <td>0</td>\n",
       "      <td>8.450134</td>\n",
       "      <td>5</td>\n",
       "      <td>2010</td>\n",
       "      <td>1</td>\n",
       "    </tr>\n",
       "    <tr>\n",
       "      <th>2</th>\n",
       "      <td>2</td>\n",
       "      <td>3</td>\n",
       "      <td>False</td>\n",
       "      <td>0</td>\n",
       "      <td>0</td>\n",
       "      <td>1</td>\n",
       "      <td>1.389525</td>\n",
       "      <td>18</td>\n",
       "      <td>2011</td>\n",
       "      <td>8</td>\n",
       "    </tr>\n",
       "    <tr>\n",
       "      <th>3</th>\n",
       "      <td>1</td>\n",
       "      <td>5</td>\n",
       "      <td>True</td>\n",
       "      <td>0</td>\n",
       "      <td>0</td>\n",
       "      <td>1</td>\n",
       "      <td>2.799270</td>\n",
       "      <td>21</td>\n",
       "      <td>2012</td>\n",
       "      <td>4</td>\n",
       "    </tr>\n",
       "    <tr>\n",
       "      <th>4</th>\n",
       "      <td>1</td>\n",
       "      <td>1</td>\n",
       "      <td>False</td>\n",
       "      <td>0</td>\n",
       "      <td>1</td>\n",
       "      <td>0</td>\n",
       "      <td>1.999157</td>\n",
       "      <td>9</td>\n",
       "      <td>2010</td>\n",
       "      <td>3</td>\n",
       "    </tr>\n",
       "    <tr>\n",
       "      <th>5</th>\n",
       "      <td>1</td>\n",
       "      <td>3</td>\n",
       "      <td>False</td>\n",
       "      <td>0</td>\n",
       "      <td>0</td>\n",
       "      <td>0</td>\n",
       "      <td>3.787239</td>\n",
       "      <td>6</td>\n",
       "      <td>2011</td>\n",
       "      <td>1</td>\n",
       "    </tr>\n",
       "    <tr>\n",
       "      <th>6</th>\n",
       "      <td>1</td>\n",
       "      <td>1</td>\n",
       "      <td>False</td>\n",
       "      <td>0</td>\n",
       "      <td>0</td>\n",
       "      <td>0</td>\n",
       "      <td>1.555807</td>\n",
       "      <td>20</td>\n",
       "      <td>2012</td>\n",
       "      <td>11</td>\n",
       "    </tr>\n",
       "    <tr>\n",
       "      <th>7</th>\n",
       "      <td>1</td>\n",
       "      <td>2</td>\n",
       "      <td>False</td>\n",
       "      <td>0</td>\n",
       "      <td>1</td>\n",
       "      <td>0</td>\n",
       "      <td>4.155444</td>\n",
       "      <td>4</td>\n",
       "      <td>2012</td>\n",
       "      <td>1</td>\n",
       "    </tr>\n",
       "    <tr>\n",
       "      <th>8</th>\n",
       "      <td>1</td>\n",
       "      <td>0</td>\n",
       "      <td>False</td>\n",
       "      <td>0</td>\n",
       "      <td>0</td>\n",
       "      <td>1</td>\n",
       "      <td>1.253232</td>\n",
       "      <td>3</td>\n",
       "      <td>2012</td>\n",
       "      <td>12</td>\n",
       "    </tr>\n",
       "    <tr>\n",
       "      <th>9</th>\n",
       "      <td>2</td>\n",
       "      <td>2</td>\n",
       "      <td>False</td>\n",
       "      <td>0</td>\n",
       "      <td>0</td>\n",
       "      <td>0</td>\n",
       "      <td>2.849627</td>\n",
       "      <td>2</td>\n",
       "      <td>2009</td>\n",
       "      <td>9</td>\n",
       "    </tr>\n",
       "    <tr>\n",
       "      <th>10</th>\n",
       "      <td>1</td>\n",
       "      <td>6</td>\n",
       "      <td>True</td>\n",
       "      <td>0</td>\n",
       "      <td>0</td>\n",
       "      <td>0</td>\n",
       "      <td>1.374577</td>\n",
       "      <td>8</td>\n",
       "      <td>2012</td>\n",
       "      <td>4</td>\n",
       "    </tr>\n",
       "    <tr>\n",
       "      <th>11</th>\n",
       "      <td>2</td>\n",
       "      <td>4</td>\n",
       "      <td>True</td>\n",
       "      <td>0</td>\n",
       "      <td>0</td>\n",
       "      <td>0</td>\n",
       "      <td>0.717767</td>\n",
       "      <td>6</td>\n",
       "      <td>2009</td>\n",
       "      <td>11</td>\n",
       "    </tr>\n",
       "    <tr>\n",
       "      <th>12</th>\n",
       "      <td>1</td>\n",
       "      <td>1</td>\n",
       "      <td>False</td>\n",
       "      <td>0</td>\n",
       "      <td>0</td>\n",
       "      <td>0</td>\n",
       "      <td>2.019384</td>\n",
       "      <td>2</td>\n",
       "      <td>2013</td>\n",
       "      <td>7</td>\n",
       "    </tr>\n",
       "    <tr>\n",
       "      <th>13</th>\n",
       "      <td>2</td>\n",
       "      <td>1</td>\n",
       "      <td>False</td>\n",
       "      <td>0</td>\n",
       "      <td>1</td>\n",
       "      <td>0</td>\n",
       "      <td>1.671445</td>\n",
       "      <td>5</td>\n",
       "      <td>2011</td>\n",
       "      <td>4</td>\n",
       "    </tr>\n",
       "    <tr>\n",
       "      <th>14</th>\n",
       "      <td>1</td>\n",
       "      <td>2</td>\n",
       "      <td>False</td>\n",
       "      <td>0</td>\n",
       "      <td>1</td>\n",
       "      <td>1</td>\n",
       "      <td>2.609774</td>\n",
       "      <td>19</td>\n",
       "      <td>2014</td>\n",
       "      <td>2</td>\n",
       "    </tr>\n",
       "    <tr>\n",
       "      <th>15</th>\n",
       "      <td>1</td>\n",
       "      <td>2</td>\n",
       "      <td>False</td>\n",
       "      <td>0</td>\n",
       "      <td>1</td>\n",
       "      <td>0</td>\n",
       "      <td>1.511904</td>\n",
       "      <td>22</td>\n",
       "      <td>2009</td>\n",
       "      <td>7</td>\n",
       "    </tr>\n",
       "    <tr>\n",
       "      <th>16</th>\n",
       "      <td>1</td>\n",
       "      <td>2</td>\n",
       "      <td>False</td>\n",
       "      <td>0</td>\n",
       "      <td>0</td>\n",
       "      <td>0</td>\n",
       "      <td>0.921952</td>\n",
       "      <td>7</td>\n",
       "      <td>2010</td>\n",
       "      <td>7</td>\n",
       "    </tr>\n",
       "    <tr>\n",
       "      <th>17</th>\n",
       "      <td>1</td>\n",
       "      <td>5</td>\n",
       "      <td>True</td>\n",
       "      <td>0</td>\n",
       "      <td>0</td>\n",
       "      <td>0</td>\n",
       "      <td>0.399179</td>\n",
       "      <td>6</td>\n",
       "      <td>2014</td>\n",
       "      <td>12</td>\n",
       "    </tr>\n",
       "    <tr>\n",
       "      <th>18</th>\n",
       "      <td>1</td>\n",
       "      <td>1</td>\n",
       "      <td>False</td>\n",
       "      <td>0</td>\n",
       "      <td>0</td>\n",
       "      <td>0</td>\n",
       "      <td>1.686861</td>\n",
       "      <td>7</td>\n",
       "      <td>2010</td>\n",
       "      <td>9</td>\n",
       "    </tr>\n",
       "    <tr>\n",
       "      <th>19</th>\n",
       "      <td>1</td>\n",
       "      <td>1</td>\n",
       "      <td>False</td>\n",
       "      <td>0</td>\n",
       "      <td>0</td>\n",
       "      <td>0</td>\n",
       "      <td>2.292470</td>\n",
       "      <td>12</td>\n",
       "      <td>2013</td>\n",
       "      <td>2</td>\n",
       "    </tr>\n",
       "  </tbody>\n",
       "</table>\n",
       "</div>"
      ],
      "text/plain": [
       "    passenger_count  day  weekend  holiday  peak_hour  hotspot      dist  \\\n",
       "0                 1    0    False        0          1        0  1.030764   \n",
       "1                 1    1    False        0          1        0  8.450134   \n",
       "2                 2    3    False        0          0        1  1.389525   \n",
       "3                 1    5     True        0          0        1  2.799270   \n",
       "4                 1    1    False        0          1        0  1.999157   \n",
       "5                 1    3    False        0          0        0  3.787239   \n",
       "6                 1    1    False        0          0        0  1.555807   \n",
       "7                 1    2    False        0          1        0  4.155444   \n",
       "8                 1    0    False        0          0        1  1.253232   \n",
       "9                 2    2    False        0          0        0  2.849627   \n",
       "10                1    6     True        0          0        0  1.374577   \n",
       "11                2    4     True        0          0        0  0.717767   \n",
       "12                1    1    False        0          0        0  2.019384   \n",
       "13                2    1    False        0          1        0  1.671445   \n",
       "14                1    2    False        0          1        1  2.609774   \n",
       "15                1    2    False        0          1        0  1.511904   \n",
       "16                1    2    False        0          0        0  0.921952   \n",
       "17                1    5     True        0          0        0  0.399179   \n",
       "18                1    1    False        0          0        0  1.686861   \n",
       "19                1    1    False        0          0        0  2.292470   \n",
       "\n",
       "    date  year  month  \n",
       "0     15  2009      6  \n",
       "1      5  2010      1  \n",
       "2     18  2011      8  \n",
       "3     21  2012      4  \n",
       "4      9  2010      3  \n",
       "5      6  2011      1  \n",
       "6     20  2012     11  \n",
       "7      4  2012      1  \n",
       "8      3  2012     12  \n",
       "9      2  2009      9  \n",
       "10     8  2012      4  \n",
       "11     6  2009     11  \n",
       "12     2  2013      7  \n",
       "13     5  2011      4  \n",
       "14    19  2014      2  \n",
       "15    22  2009      7  \n",
       "16     7  2010      7  \n",
       "17     6  2014     12  \n",
       "18     7  2010      9  \n",
       "19    12  2013      2  "
      ]
     },
     "execution_count": 6,
     "metadata": {},
     "output_type": "execute_result"
    }
   ],
   "source": [
    "checkpoint6.head(20)"
   ]
  },
  {
   "cell_type": "code",
   "execution_count": 7,
   "id": "b5cba910-6a92-460b-bc03-ebba02a67479",
   "metadata": {},
   "outputs": [
    {
     "name": "stdout",
     "output_type": "stream",
     "text": [
      "Dropped columns!\n"
     ]
    }
   ],
   "source": [
    "print(\"Dropped columns!\")"
   ]
  },
  {
   "cell_type": "code",
   "execution_count": 8,
   "id": "2c021804-bd04-4321-aeaf-1766c750fcf8",
   "metadata": {},
   "outputs": [
    {
     "name": "stdout",
     "output_type": "stream",
     "text": [
      "Splitting Dataset...\n",
      "Dataset splitted!\n"
     ]
    }
   ],
   "source": [
    "# Splitting Dataset into train and test (20% TEST, 80% TRAIN) \n",
    "print('Splitting Dataset...')\n",
    "X_train, X_test, y_train, y_test = train_test_split(checkpoint6, label, test_size = 0.2)\n",
    "print(\"Dataset splitted!\")"
   ]
  },
  {
   "cell_type": "markdown",
   "id": "f6790ef0-fae4-43b2-84cd-f53fb28e3451",
   "metadata": {},
   "source": [
    "### Normalising the values"
   ]
  },
  {
   "cell_type": "code",
   "execution_count": 9,
   "id": "7dd15959-2be3-427a-8d57-80ecf1b4a727",
   "metadata": {},
   "outputs": [],
   "source": [
    "X_sc = StandardScaler()\n",
    "y_sc = StandardScaler()"
   ]
  },
  {
   "cell_type": "code",
   "execution_count": 10,
   "id": "0ffa548a-39d2-46ca-895e-1e35ba3ff02d",
   "metadata": {},
   "outputs": [],
   "source": [
    "X_train = X_sc.fit_transform(X_train)\n",
    "y_train = y_sc.fit_transform(y_train)"
   ]
  },
  {
   "cell_type": "code",
   "execution_count": 11,
   "id": "753c35b2-1d56-4f36-bfc8-e38601f25ba3",
   "metadata": {},
   "outputs": [
    {
     "name": "stdout",
     "output_type": "stream",
     "text": [
      "Fitting the model...\n",
      "Succeeded in fitting model!\n"
     ]
    }
   ],
   "source": [
    "print('Fitting the model...')\n",
    "regressor = SVR(kernel = 'rbf')\n",
    "t0 = time.time()\n",
    "regressor.fit(X_train, y_train.ravel())\n",
    "t1 = time.time()\n",
    "print('Succeeded in fitting model!')"
   ]
  },
  {
   "cell_type": "code",
   "execution_count": 12,
   "id": "a607d074-83f9-4070-8f74-067f7d663607",
   "metadata": {},
   "outputs": [
    {
     "name": "stdout",
     "output_type": "stream",
     "text": [
      "Saving model...\n",
      "Saved model!\n"
     ]
    }
   ],
   "source": [
    "print(\"Saving model...\")\n",
    "\n",
    "with open('WithDistDate_SVM/Dist_SVM_Experiment_300000.pkl', 'wb') as f:\n",
    "\n",
    "   pickle.dump(regressor, f)\n",
    "\n",
    "print(\"Saved model!\")"
   ]
  },
  {
   "cell_type": "code",
   "execution_count": 13,
   "id": "6bd3cf68-da5a-4e3a-bbe0-1d0c7b3f46fb",
   "metadata": {},
   "outputs": [
    {
     "name": "stdout",
     "output_type": "stream",
     "text": [
      "Predicting...\n",
      "Predicted all!\n",
      "[[ 7.45018509]\n",
      " [ 7.04696732]\n",
      " [10.93941609]\n",
      " ...\n",
      " [ 7.17723503]\n",
      " [ 6.13532578]\n",
      " [46.58364754]]\n"
     ]
    }
   ],
   "source": [
    "print('Predicting...')\n",
    "y_pred = regressor.predict(X_sc.transform(X_test))\n",
    "t2 = time.time()\n",
    "y_pred = y_sc.inverse_transform(y_pred.reshape(-1, 1))\n",
    "print('Predicted all!')\n",
    "print(y_pred)"
   ]
  },
  {
   "cell_type": "code",
   "execution_count": 14,
   "id": "a96cf769-e458-4f52-addf-b09fb04204e4",
   "metadata": {},
   "outputs": [],
   "source": [
    "y_test = y_test.to_numpy()"
   ]
  },
  {
   "cell_type": "code",
   "execution_count": 15,
   "id": "6733d374-cf1d-4d25-8670-218e4cf22c8d",
   "metadata": {},
   "outputs": [],
   "source": [
    "y_test = y_test.flatten()\n",
    "y_pred = y_pred.flatten()\n",
    "y_test_series = pd.Series(y_test)\n",
    "y_pred_series = pd.Series(y_pred)\n",
    "df = pd.DataFrame({'Predicted value': y_pred, 'Real Value': y_test})\n",
    "df\n",
    "df.to_csv('WithDistDate_SVM/Dist_predictions_SVR300000.csv',index=False )"
   ]
  },
  {
   "cell_type": "code",
   "execution_count": 16,
   "id": "7026991b-9d19-484b-a558-0cd8f599b268",
   "metadata": {},
   "outputs": [
    {
     "name": "stdout",
     "output_type": "stream",
     "text": [
      "Score for classifier: 0.6100008663651038\n",
      "Time taken to train: 4431.89809012413\n",
      "Time taken to predict 338.98486495018005\n",
      "Mean square error is ->  39.38945560613004\n",
      "Root Mean square error is ->  6.276101943573737\n",
      "Mean absolute error is ->  2.31408394406531\n"
     ]
    }
   ],
   "source": [
    "time_train = t1-t0\n",
    "time_predict = t2-t1\n",
    "\n",
    "#Get Report\n",
    "print(\"Score for classifier:\", r2_score(y_test,y_pred))\n",
    "print (\"Time taken to train:\", time_train)\n",
    "print(\"Time taken to predict\",time_predict)\n",
    "print(\"Mean square error is -> \",mean_squared_error(y_test, y_pred))\n",
    "print(\"Root Mean square error is -> \",math.sqrt(mean_squared_error(y_test, y_pred)))\n",
    "print(\"Mean absolute error is -> \",mean_absolute_error(y_test, y_pred))\n",
    "\n",
    "# Save report \n",
    "report = { \n",
    "    'version': 'SVM with Dist Date',\n",
    "    'number_rows': 300000,\n",
    "    'train time':time_train,\n",
    "    'r2_score': r2_score(y_test,y_pred),\n",
    "    'MSE': mean_squared_error(y_test, y_pred),\n",
    "    'RMSE': math.sqrt(mean_squared_error(y_test, y_pred)),\n",
    "    'MAE': mean_absolute_error(y_test, y_pred)}\n",
    "\n",
    "final_report = pd.DataFrame.from_dict(report.items())\n",
    "final_report.to_csv('WithDistDate_SVM/report_SVR300000.csv',index=False )"
   ]
  },
  {
   "cell_type": "code",
   "execution_count": 17,
   "id": "514ac54c-71f2-472e-bf79-c828d2199067",
   "metadata": {},
   "outputs": [],
   "source": [
    "# with open('SVM_Experiment1.pkl', 'rb') as f:\n",
    "\n",
    "#    regressor = pickle.load(f)"
   ]
  },
  {
   "cell_type": "code",
   "execution_count": null,
   "id": "27ce8681-c748-40ea-a795-727df877e480",
   "metadata": {},
   "outputs": [],
   "source": []
  }
 ],
 "metadata": {
  "kernelspec": {
   "display_name": "ml",
   "language": "python",
   "name": "ml"
  },
  "language_info": {
   "codemirror_mode": {
    "name": "ipython",
    "version": 3
   },
   "file_extension": ".py",
   "mimetype": "text/x-python",
   "name": "python",
   "nbconvert_exporter": "python",
   "pygments_lexer": "ipython3",
   "version": "3.9.7"
  }
 },
 "nbformat": 4,
 "nbformat_minor": 5
}
