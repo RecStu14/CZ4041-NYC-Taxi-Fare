{
 "cells": [
  {
   "cell_type": "code",
   "execution_count": 1,
   "id": "565edf22-5677-4cb1-aac8-2da9df343f79",
   "metadata": {},
   "outputs": [
    {
     "name": "stdout",
     "output_type": "stream",
     "text": [
      "importing libraries...\n",
      "successfully imported all libraries!\n"
     ]
    }
   ],
   "source": [
    "print(\"importing libraries...\")\n",
    "from sklearn.model_selection import train_test_split\n",
    "from sklearn.preprocessing import StandardScaler\n",
    "#import tensorflow as tf\n",
    "from tensorflow.keras.models import Sequential\n",
    "from tensorflow.keras.layers import Dense\n",
    "import pandas as pd\n",
    "import numpy as np\n",
    "print(\"successfully imported all libraries!\")"
   ]
  },
  {
   "cell_type": "code",
   "execution_count": 2,
   "id": "2746f0d4-a652-463a-9a33-227af16b64e8",
   "metadata": {},
   "outputs": [
    {
     "name": "stdout",
     "output_type": "stream",
     "text": [
      "importing checkpoint5...\n",
      "Successfully imported checkpoint5\n"
     ]
    }
   ],
   "source": [
    "print(\"importing checkpoint5...\")\n",
    "checkpoint_5 = pd.read_csv('checkpoint-5.csv')\n",
    "print(\"Successfully imported checkpoint5\")"
   ]
  },
  {
   "cell_type": "code",
   "execution_count": 3,
   "id": "81eba676-3dd2-44dc-b3b5-d2e60dd0420d",
   "metadata": {},
   "outputs": [],
   "source": [
    "labels = checkpoint_5[['fare_amount']]"
   ]
  },
  {
   "cell_type": "code",
   "execution_count": 4,
   "id": "d8ea7534-3c5e-42e8-9464-1adca0241cc7",
   "metadata": {},
   "outputs": [],
   "source": [
    "del checkpoint_5['fare_amount']\n",
    "del checkpoint_5['time']"
   ]
  },
  {
   "cell_type": "code",
   "execution_count": 9,
   "id": "86c83c6a-b977-4d4e-a524-3081cfa110c2",
   "metadata": {},
   "outputs": [
    {
     "data": {
      "text/html": [
       "<div>\n",
       "<style scoped>\n",
       "    .dataframe tbody tr th:only-of-type {\n",
       "        vertical-align: middle;\n",
       "    }\n",
       "\n",
       "    .dataframe tbody tr th {\n",
       "        vertical-align: top;\n",
       "    }\n",
       "\n",
       "    .dataframe thead th {\n",
       "        text-align: right;\n",
       "    }\n",
       "</style>\n",
       "<table border=\"1\" class=\"dataframe\">\n",
       "  <thead>\n",
       "    <tr style=\"text-align: right;\">\n",
       "      <th></th>\n",
       "      <th>pickup_longitude</th>\n",
       "      <th>pickup_latitude</th>\n",
       "      <th>dropoff_longitude</th>\n",
       "      <th>dropoff_latitude</th>\n",
       "      <th>passenger_count</th>\n",
       "      <th>day</th>\n",
       "      <th>weekend</th>\n",
       "      <th>holiday</th>\n",
       "      <th>peak_hour</th>\n",
       "      <th>hotspot</th>\n",
       "      <th>dist</th>\n",
       "    </tr>\n",
       "  </thead>\n",
       "  <tbody>\n",
       "    <tr>\n",
       "      <th>0</th>\n",
       "      <td>-73.844311</td>\n",
       "      <td>40.721319</td>\n",
       "      <td>-73.841610</td>\n",
       "      <td>40.712278</td>\n",
       "      <td>1</td>\n",
       "      <td>0</td>\n",
       "      <td>False</td>\n",
       "      <td>0</td>\n",
       "      <td>1</td>\n",
       "      <td>0</td>\n",
       "      <td>1.030764</td>\n",
       "    </tr>\n",
       "    <tr>\n",
       "      <th>1</th>\n",
       "      <td>-74.016048</td>\n",
       "      <td>40.711303</td>\n",
       "      <td>-73.979268</td>\n",
       "      <td>40.782004</td>\n",
       "      <td>1</td>\n",
       "      <td>1</td>\n",
       "      <td>False</td>\n",
       "      <td>0</td>\n",
       "      <td>1</td>\n",
       "      <td>0</td>\n",
       "      <td>8.450134</td>\n",
       "    </tr>\n",
       "    <tr>\n",
       "      <th>2</th>\n",
       "      <td>-73.982738</td>\n",
       "      <td>40.761270</td>\n",
       "      <td>-73.991242</td>\n",
       "      <td>40.750562</td>\n",
       "      <td>2</td>\n",
       "      <td>3</td>\n",
       "      <td>False</td>\n",
       "      <td>0</td>\n",
       "      <td>0</td>\n",
       "      <td>1</td>\n",
       "      <td>1.389525</td>\n",
       "    </tr>\n",
       "    <tr>\n",
       "      <th>3</th>\n",
       "      <td>-73.987130</td>\n",
       "      <td>40.733143</td>\n",
       "      <td>-73.991567</td>\n",
       "      <td>40.758092</td>\n",
       "      <td>1</td>\n",
       "      <td>5</td>\n",
       "      <td>True</td>\n",
       "      <td>0</td>\n",
       "      <td>0</td>\n",
       "      <td>1</td>\n",
       "      <td>2.799270</td>\n",
       "    </tr>\n",
       "    <tr>\n",
       "      <th>4</th>\n",
       "      <td>-73.968095</td>\n",
       "      <td>40.768008</td>\n",
       "      <td>-73.956655</td>\n",
       "      <td>40.783762</td>\n",
       "      <td>1</td>\n",
       "      <td>1</td>\n",
       "      <td>False</td>\n",
       "      <td>0</td>\n",
       "      <td>1</td>\n",
       "      <td>0</td>\n",
       "      <td>1.999157</td>\n",
       "    </tr>\n",
       "    <tr>\n",
       "      <th>...</th>\n",
       "      <td>...</td>\n",
       "      <td>...</td>\n",
       "      <td>...</td>\n",
       "      <td>...</td>\n",
       "      <td>...</td>\n",
       "      <td>...</td>\n",
       "      <td>...</td>\n",
       "      <td>...</td>\n",
       "      <td>...</td>\n",
       "      <td>...</td>\n",
       "      <td>...</td>\n",
       "    </tr>\n",
       "    <tr>\n",
       "      <th>54125939</th>\n",
       "      <td>-74.005272</td>\n",
       "      <td>40.740027</td>\n",
       "      <td>-73.963280</td>\n",
       "      <td>40.762555</td>\n",
       "      <td>1</td>\n",
       "      <td>5</td>\n",
       "      <td>True</td>\n",
       "      <td>0</td>\n",
       "      <td>0</td>\n",
       "      <td>0</td>\n",
       "      <td>4.334397</td>\n",
       "    </tr>\n",
       "    <tr>\n",
       "      <th>54125940</th>\n",
       "      <td>-73.957784</td>\n",
       "      <td>40.765530</td>\n",
       "      <td>-73.951640</td>\n",
       "      <td>40.773959</td>\n",
       "      <td>1</td>\n",
       "      <td>1</td>\n",
       "      <td>False</td>\n",
       "      <td>0</td>\n",
       "      <td>0</td>\n",
       "      <td>0</td>\n",
       "      <td>1.070590</td>\n",
       "    </tr>\n",
       "    <tr>\n",
       "      <th>54125941</th>\n",
       "      <td>-73.970505</td>\n",
       "      <td>40.752325</td>\n",
       "      <td>-73.960537</td>\n",
       "      <td>40.797342</td>\n",
       "      <td>1</td>\n",
       "      <td>5</td>\n",
       "      <td>True</td>\n",
       "      <td>0</td>\n",
       "      <td>0</td>\n",
       "      <td>0</td>\n",
       "      <td>5.075548</td>\n",
       "    </tr>\n",
       "    <tr>\n",
       "      <th>54125942</th>\n",
       "      <td>-73.980901</td>\n",
       "      <td>40.764629</td>\n",
       "      <td>-73.870605</td>\n",
       "      <td>40.773963</td>\n",
       "      <td>1</td>\n",
       "      <td>2</td>\n",
       "      <td>False</td>\n",
       "      <td>0</td>\n",
       "      <td>0</td>\n",
       "      <td>0</td>\n",
       "      <td>9.346157</td>\n",
       "    </tr>\n",
       "    <tr>\n",
       "      <th>54125943</th>\n",
       "      <td>-73.969722</td>\n",
       "      <td>40.797668</td>\n",
       "      <td>-73.970885</td>\n",
       "      <td>40.783313</td>\n",
       "      <td>1</td>\n",
       "      <td>4</td>\n",
       "      <td>True</td>\n",
       "      <td>0</td>\n",
       "      <td>0</td>\n",
       "      <td>0</td>\n",
       "      <td>1.599203</td>\n",
       "    </tr>\n",
       "  </tbody>\n",
       "</table>\n",
       "<p>54125944 rows × 11 columns</p>\n",
       "</div>"
      ],
      "text/plain": [
       "          pickup_longitude  pickup_latitude  dropoff_longitude  \\\n",
       "0               -73.844311        40.721319         -73.841610   \n",
       "1               -74.016048        40.711303         -73.979268   \n",
       "2               -73.982738        40.761270         -73.991242   \n",
       "3               -73.987130        40.733143         -73.991567   \n",
       "4               -73.968095        40.768008         -73.956655   \n",
       "...                    ...              ...                ...   \n",
       "54125939        -74.005272        40.740027         -73.963280   \n",
       "54125940        -73.957784        40.765530         -73.951640   \n",
       "54125941        -73.970505        40.752325         -73.960537   \n",
       "54125942        -73.980901        40.764629         -73.870605   \n",
       "54125943        -73.969722        40.797668         -73.970885   \n",
       "\n",
       "          dropoff_latitude  passenger_count  day  weekend  holiday  peak_hour  \\\n",
       "0                40.712278                1    0    False        0          1   \n",
       "1                40.782004                1    1    False        0          1   \n",
       "2                40.750562                2    3    False        0          0   \n",
       "3                40.758092                1    5     True        0          0   \n",
       "4                40.783762                1    1    False        0          1   \n",
       "...                    ...              ...  ...      ...      ...        ...   \n",
       "54125939         40.762555                1    5     True        0          0   \n",
       "54125940         40.773959                1    1    False        0          0   \n",
       "54125941         40.797342                1    5     True        0          0   \n",
       "54125942         40.773963                1    2    False        0          0   \n",
       "54125943         40.783313                1    4     True        0          0   \n",
       "\n",
       "          hotspot      dist  \n",
       "0               0  1.030764  \n",
       "1               0  8.450134  \n",
       "2               1  1.389525  \n",
       "3               1  2.799270  \n",
       "4               0  1.999157  \n",
       "...           ...       ...  \n",
       "54125939        0  4.334397  \n",
       "54125940        0  1.070590  \n",
       "54125941        0  5.075548  \n",
       "54125942        0  9.346157  \n",
       "54125943        0  1.599203  \n",
       "\n",
       "[54125944 rows x 11 columns]"
      ]
     },
     "execution_count": 9,
     "metadata": {},
     "output_type": "execute_result"
    }
   ],
   "source": [
    "checkpoint_5"
   ]
  },
  {
   "cell_type": "code",
   "execution_count": 5,
   "id": "8e2f9f1d-64d8-4aba-84fa-0a02f9c2b7aa",
   "metadata": {},
   "outputs": [
    {
     "name": "stdout",
     "output_type": "stream",
     "text": [
      "scaling...\n",
      "successfully scaled...\n"
     ]
    }
   ],
   "source": [
    "print(\"scaling...\")\n",
    "#FEATURE SCALING - to scale the data to ensure a suitable range compatible with the model\n",
    "sc = StandardScaler()\n",
    "checkpoint_5_scaled = np.array(sc.fit_transform(checkpoint_5))\n",
    "labels_scaled = np.array(labels)\n",
    "print(\"successfully scaled...\")"
   ]
  },
  {
   "cell_type": "code",
   "execution_count": 6,
   "id": "d13b63ae-c102-4b50-bd33-c71811978299",
   "metadata": {},
   "outputs": [
    {
     "data": {
      "text/plain": [
       "array([[ 0.00917608,  0.00378164,  0.00928066, ...,  1.87033674,\n",
       "        -0.55809274, -0.04141318],\n",
       "       [-0.01266349,  0.00244762, -0.00816477, ...,  1.87033674,\n",
       "        -0.55809274,  0.04355377],\n",
       "       [-0.0084275 ,  0.00910268, -0.00968224, ..., -0.53466308,\n",
       "         1.79181689, -0.03730463],\n",
       "       ...,\n",
       "       [-0.00687184,  0.00791131, -0.00579099, ..., -0.53466308,\n",
       "        -0.55809274,  0.00490786],\n",
       "       [-0.00819389,  0.00955007,  0.00560612, ..., -0.53466308,\n",
       "        -0.55809274,  0.05381507],\n",
       "       [-0.00677227,  0.0139505 , -0.00710239, ..., -0.53466308,\n",
       "        -0.55809274, -0.03490339]])"
      ]
     },
     "execution_count": 6,
     "metadata": {},
     "output_type": "execute_result"
    }
   ],
   "source": [
    "checkpoint_5_scaled"
   ]
  },
  {
   "cell_type": "code",
   "execution_count": 7,
   "id": "519f852b-e577-4173-bf27-79b738070d6b",
   "metadata": {},
   "outputs": [
    {
     "name": "stdout",
     "output_type": "stream",
     "text": [
      "splitting...\n"
     ]
    }
   ],
   "source": [
    "print(\"splitting...\")\n",
    "#splitting data into train test \n",
    "X_train, X_test, y_train, y_test = train_test_split(checkpoint_5_scaled, labels_scaled, test_size=0.2, random_state=42)"
   ]
  },
  {
   "cell_type": "code",
   "execution_count": 8,
   "id": "b4a2be42-def2-437a-828a-6a3cfed9f989",
   "metadata": {},
   "outputs": [
    {
     "data": {
      "text/plain": [
       "array([[ 0.01610818, -0.00613016, -0.00858704, ...,  1.87033674,\n",
       "        -0.55809274,  0.19142718],\n",
       "       [-0.0050209 ,  0.0114267 , -0.00855219, ..., -0.53466308,\n",
       "        -0.55809274, -0.02616272],\n",
       "       [-0.0067579 ,  0.00800827,  0.00627817, ..., -0.53466308,\n",
       "        -0.55809274,  0.04986123],\n",
       "       ...,\n",
       "       [-0.00831546,  0.0100466 , -0.00738082, ...,  1.87033674,\n",
       "        -0.55809274, -0.03414162],\n",
       "       [-0.00481349,  0.01083121, -0.00563194, ..., -0.53466308,\n",
       "        -0.55809274, -0.04357117],\n",
       "       [-0.00809292,  0.01235849, -0.00707033, ...,  1.87033674,\n",
       "        -0.55809274, -0.03431912]])"
      ]
     },
     "execution_count": 8,
     "metadata": {},
     "output_type": "execute_result"
    }
   ],
   "source": [
    "X_train"
   ]
  },
  {
   "cell_type": "code",
   "execution_count": 7,
   "id": "f4e6581b-476d-4df9-a541-141f9ae9690c",
   "metadata": {},
   "outputs": [
    {
     "name": "stdout",
     "output_type": "stream",
     "text": [
      "Model: \"sequential\"\n",
      "_________________________________________________________________\n",
      " Layer (type)                Output Shape              Param #   \n",
      "=================================================================\n",
      " dense (Dense)               (None, 16)                192       \n",
      "                                                                 \n",
      " dense_1 (Dense)             (None, 16)                272       \n",
      "                                                                 \n",
      " dense_2 (Dense)             (None, 16)                272       \n",
      "                                                                 \n",
      " dense_3 (Dense)             (None, 16)                272       \n",
      "                                                                 \n",
      " dense_4 (Dense)             (None, 16)                272       \n",
      "                                                                 \n",
      " dense_5 (Dense)             (None, 16)                272       \n",
      "                                                                 \n",
      " dense_6 (Dense)             (None, 16)                272       \n",
      "                                                                 \n",
      " dense_7 (Dense)             (None, 16)                272       \n",
      "                                                                 \n",
      " dense_8 (Dense)             (None, 16)                272       \n",
      "                                                                 \n",
      " dense_9 (Dense)             (None, 1)                 17        \n",
      "                                                                 \n",
      "=================================================================\n",
      "Total params: 2,385\n",
      "Trainable params: 2,385\n",
      "Non-trainable params: 0\n",
      "_________________________________________________________________\n",
      "None\n"
     ]
    }
   ],
   "source": [
    "model = Sequential()\n",
    "model.add(Dense(16, input_shape=(11,)))\n",
    "model.add(Dense(16, activation='relu'))\n",
    "model.add(Dense(16, activation='relu'))\n",
    "model.add(Dense(16, activation='relu'))\n",
    "model.add(Dense(16, activation='relu'))\n",
    "model.add(Dense(16, activation='relu'))\n",
    "model.add(Dense(16, activation='relu'))\n",
    "model.add(Dense(16, activation='relu'))\n",
    "model.add(Dense(16, activation='relu'))\n",
    "model.add(Dense(1, activation='linear'))\n",
    "model.compile(optimizer='adam', loss='mse', metrics=['mse'])\n",
    "\n",
    "print(model.summary())"
   ]
  },
  {
   "cell_type": "code",
   "execution_count": 8,
   "id": "2dd6fa45-41a3-4b22-a247-16b0e97ac0d5",
   "metadata": {},
   "outputs": [
    {
     "name": "stdout",
     "output_type": "stream",
     "text": [
      "training...\n",
      "Epoch 1/30\n",
      "1353149/1353149 [==============================] - 664s 487us/step - loss: 502.7068 - mse: 502.7068\n",
      "Epoch 2/30\n",
      "1353149/1353149 [==============================] - 825s 610us/step - loss: 1474.0142 - mse: 1474.0142\n",
      "Epoch 3/30\n",
      "1353149/1353149 [==============================] - 826s 610us/step - loss: 924.6292 - mse: 924.6292\n",
      "Epoch 4/30\n",
      "1353149/1353149 [==============================] - 798s 590us/step - loss: 443.1799 - mse: 443.1799\n",
      "Epoch 5/30\n",
      "1353149/1353149 [==============================] - 821s 606us/step - loss: 442.3756 - mse: 442.3756\n",
      "Epoch 6/30\n",
      "1353149/1353149 [==============================] - 820s 606us/step - loss: 11281.9795 - mse: 11281.9795\n",
      "Epoch 7/30\n",
      "1353149/1353149 [==============================] - 819s 605us/step - loss: 442.5755 - mse: 442.5755\n",
      "Epoch 8/30\n",
      "1353149/1353149 [==============================] - 833s 616us/step - loss: 444.0283 - mse: 444.0283\n",
      "Epoch 9/30\n",
      "1353149/1353149 [==============================] - 830s 613us/step - loss: 475.4512 - mse: 475.4512\n",
      "Epoch 10/30\n",
      "1353149/1353149 [==============================] - 769s 568us/step - loss: 569.2521 - mse: 569.2521\n",
      "Epoch 11/30\n",
      "1353149/1353149 [==============================] - 800s 591us/step - loss: 24813.9375 - mse: 24813.9375\n",
      "Epoch 12/30\n",
      "1353149/1353149 [==============================] - 815s 602us/step - loss: 33710124.0000 - mse: 33710124.0000\n",
      "Epoch 13/30\n",
      "1353149/1353149 [==============================] - 738s 546us/step - loss: 294277.8125 - mse: 294277.8125\n",
      "Epoch 14/30\n",
      "1353149/1353149 [==============================] - 667s 493us/step - loss: 198079.7812 - mse: 198079.7812\n",
      "Epoch 15/30\n",
      "1353149/1353149 [==============================] - 656s 484us/step - loss: 5474627.5000 - mse: 5474627.5000\n",
      "Epoch 16/30\n",
      "1353149/1353149 [==============================] - 646s 477us/step - loss: 3190918.5000 - mse: 3190918.5000\n",
      "Epoch 17/30\n",
      "1353149/1353149 [==============================] - 646s 478us/step - loss: 1649.6554 - mse: 1649.6554\n",
      "Epoch 18/30\n",
      "1353149/1353149 [==============================] - 658s 486us/step - loss: 51731.8242 - mse: 51731.8242\n",
      "Epoch 19/30\n",
      "1353149/1353149 [==============================] - 663s 490us/step - loss: 12709.5117 - mse: 12709.5117\n",
      "Epoch 20/30\n",
      "1353149/1353149 [==============================] - 667s 493us/step - loss: 151419.4531 - mse: 151419.4531\n",
      "Epoch 21/30\n",
      "1353149/1353149 [==============================] - 654s 483us/step - loss: 536.7401 - mse: 536.7401\n",
      "Epoch 22/30\n",
      "1353149/1353149 [==============================] - 657s 485us/step - loss: 467.7874 - mse: 467.7874\n",
      "Epoch 23/30\n",
      "1353149/1353149 [==============================] - 662s 489us/step - loss: 31280.3262 - mse: 31280.3262\n",
      "Epoch 24/30\n",
      "1353149/1353149 [==============================] - 659s 487us/step - loss: 440.3084 - mse: 440.3084\n",
      "Epoch 25/30\n",
      "1353149/1353149 [==============================] - 670s 495us/step - loss: 441.3329 - mse: 441.3329\n",
      "Epoch 26/30\n",
      "1353149/1353149 [==============================] - 661s 489us/step - loss: 444.1635 - mse: 444.1635\n",
      "Epoch 27/30\n",
      "1353149/1353149 [==============================] - 651s 481us/step - loss: 5270.0410 - mse: 5270.0410\n",
      "Epoch 28/30\n",
      "1353149/1353149 [==============================] - 663s 490us/step - loss: 781.8781 - mse: 781.8781\n",
      "Epoch 29/30\n",
      "1353149/1353149 [==============================] - 660s 488us/step - loss: 442.4138 - mse: 442.4138\n",
      "Epoch 30/30\n",
      "1353149/1353149 [==============================] - 660s 487us/step - loss: 439.0955 - mse: 439.0955\n"
     ]
    }
   ],
   "source": [
    "print(\"training...\")\n",
    "history = model.fit(X_train, y_train, epochs = 30)\n",
    "\n",
    "#saving the whole model\n",
    "model.save('neural_network_baseline.h5')\n",
    "\n",
    "#saving the history dictionary into text file\n",
    "# # open file for writing\n",
    "f = open(\"history_nn_baseline.txt\",\"w\")\n",
    "\n",
    "# write file\n",
    "f.write(str(history.history))\n",
    "\n",
    "# close file\n",
    "f.close()"
   ]
  },
  {
   "cell_type": "code",
   "execution_count": 9,
   "id": "06bb2453-8197-447b-abc3-a6c8d624cef3",
   "metadata": {},
   "outputs": [
    {
     "name": "stdout",
     "output_type": "stream",
     "text": [
      "Done\n"
     ]
    }
   ],
   "source": [
    "print(\"Done\")"
   ]
  },
  {
   "cell_type": "code",
   "execution_count": null,
   "id": "4a86b03f-de8b-4b86-a524-fb2c1a51375f",
   "metadata": {},
   "outputs": [],
   "source": []
  }
 ],
 "metadata": {
  "kernelspec": {
   "display_name": "ml",
   "language": "python",
   "name": "ml"
  },
  "language_info": {
   "codemirror_mode": {
    "name": "ipython",
    "version": 3
   },
   "file_extension": ".py",
   "mimetype": "text/x-python",
   "name": "python",
   "nbconvert_exporter": "python",
   "pygments_lexer": "ipython3",
   "version": "3.9.7"
  }
 },
 "nbformat": 4,
 "nbformat_minor": 5
}
