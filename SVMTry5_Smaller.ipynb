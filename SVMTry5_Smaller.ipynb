{
 "cells": [
  {
   "cell_type": "markdown",
   "id": "e1e96e47-4e1d-4b5e-8e0e-407e5008c4d8",
   "metadata": {},
   "source": [
    "## SVM Model"
   ]
  },
  {
   "cell_type": "code",
   "execution_count": 1,
   "id": "34308d9e-a5a4-464a-bc74-401ca4a00bfb",
   "metadata": {},
   "outputs": [
    {
     "name": "stdout",
     "output_type": "stream",
     "text": [
      "Importing Libraries...\n",
      "Successfully imported!\n"
     ]
    }
   ],
   "source": [
    "print(\"Importing Libraries...\")\n",
    "import pandas as pd\n",
    "import numpy as np\n",
    "import matplotlib.pyplot as plt\n",
    "from sklearn.model_selection import train_test_split\n",
    "from sklearn.preprocessing import StandardScaler\n",
    "import pickle\n",
    "import time\n",
    "from sklearn.svm import SVR\n",
    "from sklearn.metrics import mean_squared_error\n",
    "from sklearn.metrics import mean_absolute_error\n",
    "import math\n",
    "from sklearn.metrics import r2_score\n",
    "from sklearn.utils import shuffle\n",
    "import ast\n",
    "print(\"Successfully imported!\")"
   ]
  },
  {
   "cell_type": "markdown",
   "id": "dec4a17f-bc7b-4d26-87d3-0a94f3624374",
   "metadata": {},
   "source": [
    "### Prepare dataset for fitting in model"
   ]
  },
  {
   "cell_type": "code",
   "execution_count": 2,
   "id": "c2ebf250-568f-4d42-ba1a-b02393de0b3b",
   "metadata": {},
   "outputs": [
    {
     "name": "stdout",
     "output_type": "stream",
     "text": [
      "Reading Datafile...\n",
      "Success!\n"
     ]
    }
   ],
   "source": [
    "print(\"Reading Datafile...\")\n",
    "checkpoint5 = pd.read_csv('checkpoint-5.csv')\n",
    "print(\"Success!\")"
   ]
  },
  {
   "cell_type": "code",
   "execution_count": 3,
   "id": "5c76120c-efbd-4a29-8c0f-f94dfaf11741",
   "metadata": {},
   "outputs": [
    {
     "name": "stdout",
     "output_type": "stream",
     "text": [
      "Reading index of train data...\n",
      "Length of the train indexes is... 540000\n",
      "17094116\n"
     ]
    }
   ],
   "source": [
    "print(\"Reading index of train data...\") \n",
    "with open(\"train_idx.txt\") as file:\n",
    "    train_idx_str = file.read()\n",
    "    file.close()\n",
    "\n",
    "train_idx = ast.literal_eval(train_idx_str)\n",
    "print(\"Length of the train indexes is...\", len(train_idx))\n",
    "print(train_idx[0])"
   ]
  },
  {
   "cell_type": "code",
   "execution_count": 4,
   "id": "c60262ec-4667-4c84-adb8-f6ca56f43b37",
   "metadata": {},
   "outputs": [
    {
     "name": "stdout",
     "output_type": "stream",
     "text": [
      "Getting dataframe of train set...\n",
      "Seperated dataframe for both train and test\n"
     ]
    }
   ],
   "source": [
    "print(\"Getting dataframe of train set...\")\n",
    "train_set = checkpoint5.loc[train_idx]\n",
    "checkpoint5.drop(axis=0, index=train_idx,inplace=True)\n",
    "print(\"Seperated dataframe for both train and test\")"
   ]
  },
  {
   "cell_type": "code",
   "execution_count": 5,
   "id": "426e0d82-9d46-46ef-ba86-f2c910b67f64",
   "metadata": {},
   "outputs": [
    {
     "name": "stdout",
     "output_type": "stream",
     "text": [
      "Obtaining labels for train set...\n",
      "Obtained labels!\n",
      "Train set is ready!\n"
     ]
    }
   ],
   "source": [
    "print(\"Obtaining labels for train set...\")\n",
    "cols = 'fare_amount'\n",
    "y_train = train_set[[cols]]\n",
    "print(\"Obtained labels!\")\n",
    "del train_set['time']\n",
    "del train_set['fare_amount']\n",
    "del train_set['pickup_longitude']\n",
    "del train_set['pickup_latitude']\n",
    "del train_set['dropoff_longitude']\n",
    "del train_set['dropoff_latitude']\n",
    "print(\"Train set is ready!\")"
   ]
  },
  {
   "cell_type": "code",
   "execution_count": 6,
   "id": "872d75d7-6ecc-4709-8711-076c4d1632b1",
   "metadata": {},
   "outputs": [],
   "source": [
    "X_train = train_set"
   ]
  },
  {
   "cell_type": "code",
   "execution_count": 7,
   "id": "4816e904-8c67-45b5-a4a3-ec25729eb74b",
   "metadata": {},
   "outputs": [
    {
     "data": {
      "text/html": [
       "<div>\n",
       "<style scoped>\n",
       "    .dataframe tbody tr th:only-of-type {\n",
       "        vertical-align: middle;\n",
       "    }\n",
       "\n",
       "    .dataframe tbody tr th {\n",
       "        vertical-align: top;\n",
       "    }\n",
       "\n",
       "    .dataframe thead th {\n",
       "        text-align: right;\n",
       "    }\n",
       "</style>\n",
       "<table border=\"1\" class=\"dataframe\">\n",
       "  <thead>\n",
       "    <tr style=\"text-align: right;\">\n",
       "      <th></th>\n",
       "      <th>passenger_count</th>\n",
       "      <th>day</th>\n",
       "      <th>weekend</th>\n",
       "      <th>holiday</th>\n",
       "      <th>peak_hour</th>\n",
       "      <th>hotspot</th>\n",
       "      <th>dist</th>\n",
       "    </tr>\n",
       "  </thead>\n",
       "  <tbody>\n",
       "    <tr>\n",
       "      <th>17094116</th>\n",
       "      <td>1</td>\n",
       "      <td>3</td>\n",
       "      <td>False</td>\n",
       "      <td>0</td>\n",
       "      <td>0</td>\n",
       "      <td>1</td>\n",
       "      <td>0.696993</td>\n",
       "    </tr>\n",
       "    <tr>\n",
       "      <th>53649197</th>\n",
       "      <td>1</td>\n",
       "      <td>5</td>\n",
       "      <td>True</td>\n",
       "      <td>0</td>\n",
       "      <td>0</td>\n",
       "      <td>0</td>\n",
       "      <td>1.594699</td>\n",
       "    </tr>\n",
       "    <tr>\n",
       "      <th>38088232</th>\n",
       "      <td>5</td>\n",
       "      <td>1</td>\n",
       "      <td>False</td>\n",
       "      <td>0</td>\n",
       "      <td>1</td>\n",
       "      <td>0</td>\n",
       "      <td>3.154141</td>\n",
       "    </tr>\n",
       "    <tr>\n",
       "      <th>29785639</th>\n",
       "      <td>1</td>\n",
       "      <td>2</td>\n",
       "      <td>False</td>\n",
       "      <td>0</td>\n",
       "      <td>0</td>\n",
       "      <td>0</td>\n",
       "      <td>2.620846</td>\n",
       "    </tr>\n",
       "    <tr>\n",
       "      <th>24305630</th>\n",
       "      <td>1</td>\n",
       "      <td>1</td>\n",
       "      <td>False</td>\n",
       "      <td>0</td>\n",
       "      <td>0</td>\n",
       "      <td>0</td>\n",
       "      <td>6.734819</td>\n",
       "    </tr>\n",
       "    <tr>\n",
       "      <th>...</th>\n",
       "      <td>...</td>\n",
       "      <td>...</td>\n",
       "      <td>...</td>\n",
       "      <td>...</td>\n",
       "      <td>...</td>\n",
       "      <td>...</td>\n",
       "      <td>...</td>\n",
       "    </tr>\n",
       "    <tr>\n",
       "      <th>12888383</th>\n",
       "      <td>1</td>\n",
       "      <td>6</td>\n",
       "      <td>True</td>\n",
       "      <td>0</td>\n",
       "      <td>0</td>\n",
       "      <td>1</td>\n",
       "      <td>4.731678</td>\n",
       "    </tr>\n",
       "    <tr>\n",
       "      <th>38936098</th>\n",
       "      <td>1</td>\n",
       "      <td>3</td>\n",
       "      <td>False</td>\n",
       "      <td>0</td>\n",
       "      <td>1</td>\n",
       "      <td>0</td>\n",
       "      <td>3.661563</td>\n",
       "    </tr>\n",
       "    <tr>\n",
       "      <th>189012</th>\n",
       "      <td>2</td>\n",
       "      <td>6</td>\n",
       "      <td>True</td>\n",
       "      <td>0</td>\n",
       "      <td>0</td>\n",
       "      <td>0</td>\n",
       "      <td>4.128879</td>\n",
       "    </tr>\n",
       "    <tr>\n",
       "      <th>37063756</th>\n",
       "      <td>5</td>\n",
       "      <td>3</td>\n",
       "      <td>False</td>\n",
       "      <td>0</td>\n",
       "      <td>1</td>\n",
       "      <td>0</td>\n",
       "      <td>18.904935</td>\n",
       "    </tr>\n",
       "    <tr>\n",
       "      <th>39903229</th>\n",
       "      <td>3</td>\n",
       "      <td>5</td>\n",
       "      <td>True</td>\n",
       "      <td>0</td>\n",
       "      <td>0</td>\n",
       "      <td>0</td>\n",
       "      <td>2.081787</td>\n",
       "    </tr>\n",
       "  </tbody>\n",
       "</table>\n",
       "<p>540000 rows × 7 columns</p>\n",
       "</div>"
      ],
      "text/plain": [
       "          passenger_count  day  weekend  holiday  peak_hour  hotspot  \\\n",
       "17094116                1    3    False        0          0        1   \n",
       "53649197                1    5     True        0          0        0   \n",
       "38088232                5    1    False        0          1        0   \n",
       "29785639                1    2    False        0          0        0   \n",
       "24305630                1    1    False        0          0        0   \n",
       "...                   ...  ...      ...      ...        ...      ...   \n",
       "12888383                1    6     True        0          0        1   \n",
       "38936098                1    3    False        0          1        0   \n",
       "189012                  2    6     True        0          0        0   \n",
       "37063756                5    3    False        0          1        0   \n",
       "39903229                3    5     True        0          0        0   \n",
       "\n",
       "               dist  \n",
       "17094116   0.696993  \n",
       "53649197   1.594699  \n",
       "38088232   3.154141  \n",
       "29785639   2.620846  \n",
       "24305630   6.734819  \n",
       "...             ...  \n",
       "12888383   4.731678  \n",
       "38936098   3.661563  \n",
       "189012     4.128879  \n",
       "37063756  18.904935  \n",
       "39903229   2.081787  \n",
       "\n",
       "[540000 rows x 7 columns]"
      ]
     },
     "execution_count": 7,
     "metadata": {},
     "output_type": "execute_result"
    }
   ],
   "source": [
    "X_train"
   ]
  },
  {
   "cell_type": "code",
   "execution_count": 8,
   "id": "450b6a83-24dd-4fb0-abe1-6d1d18f6d07e",
   "metadata": {},
   "outputs": [
    {
     "data": {
      "text/html": [
       "<div>\n",
       "<style scoped>\n",
       "    .dataframe tbody tr th:only-of-type {\n",
       "        vertical-align: middle;\n",
       "    }\n",
       "\n",
       "    .dataframe tbody tr th {\n",
       "        vertical-align: top;\n",
       "    }\n",
       "\n",
       "    .dataframe thead th {\n",
       "        text-align: right;\n",
       "    }\n",
       "</style>\n",
       "<table border=\"1\" class=\"dataframe\">\n",
       "  <thead>\n",
       "    <tr style=\"text-align: right;\">\n",
       "      <th></th>\n",
       "      <th>fare_amount</th>\n",
       "    </tr>\n",
       "  </thead>\n",
       "  <tbody>\n",
       "    <tr>\n",
       "      <th>17094116</th>\n",
       "      <td>4.50</td>\n",
       "    </tr>\n",
       "    <tr>\n",
       "      <th>53649197</th>\n",
       "      <td>4.90</td>\n",
       "    </tr>\n",
       "    <tr>\n",
       "      <th>38088232</th>\n",
       "      <td>10.90</td>\n",
       "    </tr>\n",
       "    <tr>\n",
       "      <th>29785639</th>\n",
       "      <td>7.30</td>\n",
       "    </tr>\n",
       "    <tr>\n",
       "      <th>24305630</th>\n",
       "      <td>27.00</td>\n",
       "    </tr>\n",
       "    <tr>\n",
       "      <th>...</th>\n",
       "      <td>...</td>\n",
       "    </tr>\n",
       "    <tr>\n",
       "      <th>12888383</th>\n",
       "      <td>14.50</td>\n",
       "    </tr>\n",
       "    <tr>\n",
       "      <th>38936098</th>\n",
       "      <td>11.70</td>\n",
       "    </tr>\n",
       "    <tr>\n",
       "      <th>189012</th>\n",
       "      <td>6.10</td>\n",
       "    </tr>\n",
       "    <tr>\n",
       "      <th>37063756</th>\n",
       "      <td>57.54</td>\n",
       "    </tr>\n",
       "    <tr>\n",
       "      <th>39903229</th>\n",
       "      <td>6.10</td>\n",
       "    </tr>\n",
       "  </tbody>\n",
       "</table>\n",
       "<p>540000 rows × 1 columns</p>\n",
       "</div>"
      ],
      "text/plain": [
       "          fare_amount\n",
       "17094116         4.50\n",
       "53649197         4.90\n",
       "38088232        10.90\n",
       "29785639         7.30\n",
       "24305630        27.00\n",
       "...               ...\n",
       "12888383        14.50\n",
       "38936098        11.70\n",
       "189012           6.10\n",
       "37063756        57.54\n",
       "39903229         6.10\n",
       "\n",
       "[540000 rows x 1 columns]"
      ]
     },
     "execution_count": 8,
     "metadata": {},
     "output_type": "execute_result"
    }
   ],
   "source": [
    "y_train"
   ]
  },
  {
   "cell_type": "markdown",
   "id": "5dbfc394-b3d6-46fc-958a-52c781ad1cec",
   "metadata": {},
   "source": [
    "### Test set preparation 100000 rows only"
   ]
  },
  {
   "cell_type": "code",
   "execution_count": 9,
   "id": "57a47a2b-cb7f-4b68-b0a7-3c562fcf4dd9",
   "metadata": {},
   "outputs": [
    {
     "name": "stdout",
     "output_type": "stream",
     "text": [
      "Obtaining samples from huge test set...\n",
      "Obtained test set!\n"
     ]
    }
   ],
   "source": [
    "print(\"Obtaining samples from huge test set...\")\n",
    "test_set = checkpoint5.sample(n=100000, replace=False)\n",
    "print(\"Obtained test set!\")"
   ]
  },
  {
   "cell_type": "code",
   "execution_count": 10,
   "id": "375e7ab2-abb1-4b8e-8e06-acbc93b9e6e7",
   "metadata": {},
   "outputs": [
    {
     "name": "stdout",
     "output_type": "stream",
     "text": [
      "Obtaining labels for test set...\n",
      "Obtained labels!\n",
      "Test set is ready!\n"
     ]
    }
   ],
   "source": [
    "print(\"Obtaining labels for test set...\")\n",
    "cols = 'fare_amount'\n",
    "y_test = test_set[[cols]]\n",
    "print(\"Obtained labels!\")\n",
    "del test_set['time']\n",
    "del test_set['fare_amount']\n",
    "del test_set['pickup_longitude']\n",
    "del test_set['pickup_latitude']\n",
    "del test_set['dropoff_longitude']\n",
    "del test_set['dropoff_latitude']\n",
    "print(\"Test set is ready!\")"
   ]
  },
  {
   "cell_type": "code",
   "execution_count": 11,
   "id": "2ec3c4f7-482a-426e-93e6-01f6eeccf93e",
   "metadata": {},
   "outputs": [],
   "source": [
    "X_test = test_set"
   ]
  },
  {
   "cell_type": "code",
   "execution_count": 12,
   "id": "88086ce2-2e01-4835-ae46-ca986db8e27b",
   "metadata": {},
   "outputs": [
    {
     "data": {
      "text/html": [
       "<div>\n",
       "<style scoped>\n",
       "    .dataframe tbody tr th:only-of-type {\n",
       "        vertical-align: middle;\n",
       "    }\n",
       "\n",
       "    .dataframe tbody tr th {\n",
       "        vertical-align: top;\n",
       "    }\n",
       "\n",
       "    .dataframe thead th {\n",
       "        text-align: right;\n",
       "    }\n",
       "</style>\n",
       "<table border=\"1\" class=\"dataframe\">\n",
       "  <thead>\n",
       "    <tr style=\"text-align: right;\">\n",
       "      <th></th>\n",
       "      <th>passenger_count</th>\n",
       "      <th>day</th>\n",
       "      <th>weekend</th>\n",
       "      <th>holiday</th>\n",
       "      <th>peak_hour</th>\n",
       "      <th>hotspot</th>\n",
       "      <th>dist</th>\n",
       "    </tr>\n",
       "  </thead>\n",
       "  <tbody>\n",
       "    <tr>\n",
       "      <th>14591719</th>\n",
       "      <td>1</td>\n",
       "      <td>4</td>\n",
       "      <td>True</td>\n",
       "      <td>0</td>\n",
       "      <td>1</td>\n",
       "      <td>0</td>\n",
       "      <td>7.947724</td>\n",
       "    </tr>\n",
       "    <tr>\n",
       "      <th>36952791</th>\n",
       "      <td>2</td>\n",
       "      <td>6</td>\n",
       "      <td>True</td>\n",
       "      <td>0</td>\n",
       "      <td>0</td>\n",
       "      <td>1</td>\n",
       "      <td>1.285748</td>\n",
       "    </tr>\n",
       "    <tr>\n",
       "      <th>22213999</th>\n",
       "      <td>2</td>\n",
       "      <td>6</td>\n",
       "      <td>True</td>\n",
       "      <td>0</td>\n",
       "      <td>0</td>\n",
       "      <td>0</td>\n",
       "      <td>20.347781</td>\n",
       "    </tr>\n",
       "    <tr>\n",
       "      <th>29023062</th>\n",
       "      <td>2</td>\n",
       "      <td>5</td>\n",
       "      <td>True</td>\n",
       "      <td>0</td>\n",
       "      <td>0</td>\n",
       "      <td>0</td>\n",
       "      <td>15.778842</td>\n",
       "    </tr>\n",
       "    <tr>\n",
       "      <th>54099570</th>\n",
       "      <td>1</td>\n",
       "      <td>2</td>\n",
       "      <td>False</td>\n",
       "      <td>0</td>\n",
       "      <td>0</td>\n",
       "      <td>0</td>\n",
       "      <td>7.334733</td>\n",
       "    </tr>\n",
       "    <tr>\n",
       "      <th>...</th>\n",
       "      <td>...</td>\n",
       "      <td>...</td>\n",
       "      <td>...</td>\n",
       "      <td>...</td>\n",
       "      <td>...</td>\n",
       "      <td>...</td>\n",
       "      <td>...</td>\n",
       "    </tr>\n",
       "    <tr>\n",
       "      <th>18651558</th>\n",
       "      <td>2</td>\n",
       "      <td>5</td>\n",
       "      <td>True</td>\n",
       "      <td>0</td>\n",
       "      <td>0</td>\n",
       "      <td>1</td>\n",
       "      <td>1.170345</td>\n",
       "    </tr>\n",
       "    <tr>\n",
       "      <th>35119203</th>\n",
       "      <td>5</td>\n",
       "      <td>0</td>\n",
       "      <td>False</td>\n",
       "      <td>0</td>\n",
       "      <td>1</td>\n",
       "      <td>0</td>\n",
       "      <td>2.048611</td>\n",
       "    </tr>\n",
       "    <tr>\n",
       "      <th>17219590</th>\n",
       "      <td>1</td>\n",
       "      <td>3</td>\n",
       "      <td>False</td>\n",
       "      <td>0</td>\n",
       "      <td>0</td>\n",
       "      <td>0</td>\n",
       "      <td>1.764260</td>\n",
       "    </tr>\n",
       "    <tr>\n",
       "      <th>6776747</th>\n",
       "      <td>1</td>\n",
       "      <td>4</td>\n",
       "      <td>True</td>\n",
       "      <td>0</td>\n",
       "      <td>0</td>\n",
       "      <td>0</td>\n",
       "      <td>2.816526</td>\n",
       "    </tr>\n",
       "    <tr>\n",
       "      <th>51892897</th>\n",
       "      <td>3</td>\n",
       "      <td>6</td>\n",
       "      <td>True</td>\n",
       "      <td>0</td>\n",
       "      <td>0</td>\n",
       "      <td>1</td>\n",
       "      <td>0.656746</td>\n",
       "    </tr>\n",
       "  </tbody>\n",
       "</table>\n",
       "<p>1000000 rows × 7 columns</p>\n",
       "</div>"
      ],
      "text/plain": [
       "          passenger_count  day  weekend  holiday  peak_hour  hotspot  \\\n",
       "14591719                1    4     True        0          1        0   \n",
       "36952791                2    6     True        0          0        1   \n",
       "22213999                2    6     True        0          0        0   \n",
       "29023062                2    5     True        0          0        0   \n",
       "54099570                1    2    False        0          0        0   \n",
       "...                   ...  ...      ...      ...        ...      ...   \n",
       "18651558                2    5     True        0          0        1   \n",
       "35119203                5    0    False        0          1        0   \n",
       "17219590                1    3    False        0          0        0   \n",
       "6776747                 1    4     True        0          0        0   \n",
       "51892897                3    6     True        0          0        1   \n",
       "\n",
       "               dist  \n",
       "14591719   7.947724  \n",
       "36952791   1.285748  \n",
       "22213999  20.347781  \n",
       "29023062  15.778842  \n",
       "54099570   7.334733  \n",
       "...             ...  \n",
       "18651558   1.170345  \n",
       "35119203   2.048611  \n",
       "17219590   1.764260  \n",
       "6776747    2.816526  \n",
       "51892897   0.656746  \n",
       "\n",
       "[1000000 rows x 7 columns]"
      ]
     },
     "execution_count": 12,
     "metadata": {},
     "output_type": "execute_result"
    }
   ],
   "source": [
    "X_test"
   ]
  },
  {
   "cell_type": "code",
   "execution_count": 13,
   "id": "cd362e24-34b4-4418-b957-e5426e53201c",
   "metadata": {},
   "outputs": [
    {
     "data": {
      "text/html": [
       "<div>\n",
       "<style scoped>\n",
       "    .dataframe tbody tr th:only-of-type {\n",
       "        vertical-align: middle;\n",
       "    }\n",
       "\n",
       "    .dataframe tbody tr th {\n",
       "        vertical-align: top;\n",
       "    }\n",
       "\n",
       "    .dataframe thead th {\n",
       "        text-align: right;\n",
       "    }\n",
       "</style>\n",
       "<table border=\"1\" class=\"dataframe\">\n",
       "  <thead>\n",
       "    <tr style=\"text-align: right;\">\n",
       "      <th></th>\n",
       "      <th>fare_amount</th>\n",
       "    </tr>\n",
       "  </thead>\n",
       "  <tbody>\n",
       "    <tr>\n",
       "      <th>14591719</th>\n",
       "      <td>25.5</td>\n",
       "    </tr>\n",
       "    <tr>\n",
       "      <th>36952791</th>\n",
       "      <td>7.0</td>\n",
       "    </tr>\n",
       "    <tr>\n",
       "      <th>22213999</th>\n",
       "      <td>49.8</td>\n",
       "    </tr>\n",
       "    <tr>\n",
       "      <th>29023062</th>\n",
       "      <td>30.5</td>\n",
       "    </tr>\n",
       "    <tr>\n",
       "      <th>54099570</th>\n",
       "      <td>19.5</td>\n",
       "    </tr>\n",
       "    <tr>\n",
       "      <th>...</th>\n",
       "      <td>...</td>\n",
       "    </tr>\n",
       "    <tr>\n",
       "      <th>18651558</th>\n",
       "      <td>7.0</td>\n",
       "    </tr>\n",
       "    <tr>\n",
       "      <th>35119203</th>\n",
       "      <td>8.1</td>\n",
       "    </tr>\n",
       "    <tr>\n",
       "      <th>17219590</th>\n",
       "      <td>7.0</td>\n",
       "    </tr>\n",
       "    <tr>\n",
       "      <th>6776747</th>\n",
       "      <td>10.0</td>\n",
       "    </tr>\n",
       "    <tr>\n",
       "      <th>51892897</th>\n",
       "      <td>4.1</td>\n",
       "    </tr>\n",
       "  </tbody>\n",
       "</table>\n",
       "<p>1000000 rows × 1 columns</p>\n",
       "</div>"
      ],
      "text/plain": [
       "          fare_amount\n",
       "14591719         25.5\n",
       "36952791          7.0\n",
       "22213999         49.8\n",
       "29023062         30.5\n",
       "54099570         19.5\n",
       "...               ...\n",
       "18651558          7.0\n",
       "35119203          8.1\n",
       "17219590          7.0\n",
       "6776747          10.0\n",
       "51892897          4.1\n",
       "\n",
       "[1000000 rows x 1 columns]"
      ]
     },
     "execution_count": 13,
     "metadata": {},
     "output_type": "execute_result"
    }
   ],
   "source": [
    "y_test"
   ]
  },
  {
   "cell_type": "markdown",
   "id": "be7ceec9-7deb-4238-99fd-c9a385382c7d",
   "metadata": {},
   "source": [
    "#### Load Model"
   ]
  },
  {
   "cell_type": "code",
   "execution_count": 14,
   "id": "a6dc5d94-1ca6-49ae-81f9-5fb90c93e8db",
   "metadata": {},
   "outputs": [],
   "source": [
    "with open('WithDist_SVM/Dist_SVM_Experiment_540000_v2.pkl', 'rb') as f:\n",
    "\n",
    "    regressor = pickle.load(f)"
   ]
  },
  {
   "cell_type": "code",
   "execution_count": 15,
   "id": "b807e110-5a24-4a02-9fdd-d986752e8180",
   "metadata": {},
   "outputs": [
    {
     "name": "stdout",
     "output_type": "stream",
     "text": [
      "Fitting...\n"
     ]
    }
   ],
   "source": [
    "print(\"Fitting...\")\n",
    "X_sc = StandardScaler()\n",
    "y_sc = StandardScaler()\n",
    "X_train = X_sc.fit_transform(X_train)\n",
    "y_train = y_sc.fit_transform(y_train)"
   ]
  },
  {
   "cell_type": "code",
   "execution_count": null,
   "id": "c3a1074c-2ed9-479f-a173-40111f93b500",
   "metadata": {},
   "outputs": [],
   "source": [
    "print('Predicting...')\n",
    "t1 = time.time()\n",
    "y_pred = regressor.predict(X_sc.transform(X_test))\n",
    "t2 = time.time()\n",
    "print(\"Inversely Transforming value data \")\n",
    "y_pred = y_sc.inverse_transform(y_pred.reshape(-1, 1))\n",
    "print('Predicted all!')\n",
    "print(y_pred)"
   ]
  },
  {
   "cell_type": "code",
   "execution_count": null,
   "id": "a96cf769-e458-4f52-addf-b09fb04204e4",
   "metadata": {},
   "outputs": [],
   "source": [
    "y_test = y_test.to_numpy()"
   ]
  },
  {
   "cell_type": "code",
   "execution_count": null,
   "id": "6733d374-cf1d-4d25-8670-218e4cf22c8d",
   "metadata": {},
   "outputs": [],
   "source": [
    "y_test = y_test.flatten()\n",
    "y_pred = y_pred.flatten()\n",
    "y_test_series = pd.Series(y_test)\n",
    "y_pred_series = pd.Series(y_pred)\n",
    "df = pd.DataFrame({'Predicted value': y_pred, 'Real Value': y_test})\n",
    "df\n",
    "df.to_csv('WithDist_SVM/Dist_predictions_SVR540000_100000.csv',index=False )"
   ]
  },
  {
   "cell_type": "code",
   "execution_count": null,
   "id": "7026991b-9d19-484b-a558-0cd8f599b268",
   "metadata": {},
   "outputs": [],
   "source": [
    "# time_train = t1-t0\n",
    "time_predict = t2-t1\n",
    "\n",
    "#Get Report\n",
    "print(\"Score for classifier:\", r2_score(y_test,y_pred))\n",
    "# print (\"Time taken to train:\", time_train)\n",
    "print(\"Time taken to predict\",time_predict)\n",
    "print(\"Mean square error is -> \",mean_squared_error(y_test, y_pred))\n",
    "print(\"Root Mean square error is -> \",math.sqrt(mean_squared_error(y_test, y_pred)))\n",
    "print(\"Mean absolute error is -> \",mean_absolute_error(y_test, y_pred))\n",
    "\n",
    "# Save report \n",
    "report = { \n",
    "    'version': 'SVM with Dist',\n",
    "    'number_rows': 100000,\n",
    "    # 'train time':time_train,\n",
    "    'predict time': time_predict,\n",
    "    'r2_score': r2_score(y_test,y_pred),\n",
    "    'MSE': mean_squared_error(y_test, y_pred),\n",
    "    'RMSE': math.sqrt(mean_squared_error(y_test, y_pred)),\n",
    "    'MAE': mean_absolute_error(y_test, y_pred)}\n",
    "\n",
    "final_report = pd.DataFrame.from_dict(report.items())\n",
    "final_report.to_csv('WithDist_SVM/report_SVR540000_100000.csv',index=False )"
   ]
  },
  {
   "cell_type": "code",
   "execution_count": null,
   "id": "514ac54c-71f2-472e-bf79-c828d2199067",
   "metadata": {},
   "outputs": [],
   "source": [
    "# with open('WithDist_SVM/Dist_SVM_Experiment_540000.pkl', 'rb') as f:\n",
    "\n",
    "#    regressor = pickle.load(f)"
   ]
  },
  {
   "cell_type": "code",
   "execution_count": null,
   "id": "415d2cb7-2f62-4605-a775-5bb8e9a7c107",
   "metadata": {},
   "outputs": [],
   "source": [
    "# X_sc = StandardScaler()\n",
    "# y_sc = StandardScaler()\n",
    "# print('Predicting...')\n",
    "# y_pred = regressor.predict(X_sc.transform(X_test))\n",
    "# t2 = time.time()\n",
    "# y_pred = y_sc.inverse_transform(y_pred.reshape(-1, 1))\n",
    "# print('Predicted all!')\n",
    "# print(y_pred)"
   ]
  },
  {
   "cell_type": "code",
   "execution_count": null,
   "id": "4d8c315c-b51d-4aa1-b0d8-6613573dc849",
   "metadata": {},
   "outputs": [],
   "source": []
  }
 ],
 "metadata": {
  "kernelspec": {
   "display_name": "ml",
   "language": "python",
   "name": "ml"
  },
  "language_info": {
   "codemirror_mode": {
    "name": "ipython",
    "version": 3
   },
   "file_extension": ".py",
   "mimetype": "text/x-python",
   "name": "python",
   "nbconvert_exporter": "python",
   "pygments_lexer": "ipython3",
   "version": "3.9.7"
  }
 },
 "nbformat": 4,
 "nbformat_minor": 5
}
