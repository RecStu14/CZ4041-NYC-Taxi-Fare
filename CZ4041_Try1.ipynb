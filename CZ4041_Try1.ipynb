{
 "cells": [
  {
   "cell_type": "markdown",
   "id": "31b727b7",
   "metadata": {},
   "source": [
    "# CZ4041 - Course Project - Taxi Fare"
   ]
  },
  {
   "cell_type": "markdown",
   "id": "ee73b478",
   "metadata": {},
   "source": [
    "# Exploratory Data Analysis"
   ]
  },
  {
   "cell_type": "markdown",
   "id": "63e83a6d",
   "metadata": {},
   "source": [
    "## Importing the Libraries"
   ]
  },
  {
   "cell_type": "code",
   "execution_count": 1,
   "id": "c0532dab",
   "metadata": {},
   "outputs": [],
   "source": [
    "import pandas as pd\n",
    "import numpy as np\n",
    "import matplotlib.pyplot as plt\n",
    "import tensorflow as tf\n",
    "import seaborn as sb"
   ]
  },
  {
   "cell_type": "markdown",
   "id": "a0448725",
   "metadata": {},
   "source": [
    "## Loading the Datasets"
   ]
  },
  {
   "cell_type": "code",
   "execution_count": 2,
   "id": "3165216d",
   "metadata": {},
   "outputs": [
    {
     "ename": "MemoryError",
     "evalue": "Unable to allocate 2.06 GiB for an array with shape (5, 55423856) and data type float64",
     "output_type": "error",
     "traceback": [
      "\u001b[1;31m---------------------------------------------------------------------------\u001b[0m",
      "\u001b[1;31mMemoryError\u001b[0m                               Traceback (most recent call last)",
      "\u001b[1;32mC:\\Users\\JENGWE~1\\AppData\\Local\\Temp/ipykernel_20612/4028968266.py\u001b[0m in \u001b[0;36m<module>\u001b[1;34m\u001b[0m\n\u001b[1;32m----> 1\u001b[1;33m \u001b[0mdf_train\u001b[0m \u001b[1;33m=\u001b[0m \u001b[0mpd\u001b[0m\u001b[1;33m.\u001b[0m\u001b[0mread_csv\u001b[0m\u001b[1;33m(\u001b[0m\u001b[1;34m\"train.csv\"\u001b[0m\u001b[1;33m)\u001b[0m\u001b[1;33m\u001b[0m\u001b[1;33m\u001b[0m\u001b[0m\n\u001b[0m\u001b[0;32m      2\u001b[0m \u001b[0mdf_test\u001b[0m \u001b[1;33m=\u001b[0m \u001b[0mpd\u001b[0m\u001b[1;33m.\u001b[0m\u001b[0mread_csv\u001b[0m\u001b[1;33m(\u001b[0m\u001b[1;34m\"test.csv\"\u001b[0m\u001b[1;33m)\u001b[0m\u001b[1;33m\u001b[0m\u001b[1;33m\u001b[0m\u001b[0m\n",
      "\u001b[1;32m~\\Anaconda3\\envs\\ml\\lib\\site-packages\\pandas\\util\\_decorators.py\u001b[0m in \u001b[0;36mwrapper\u001b[1;34m(*args, **kwargs)\u001b[0m\n\u001b[0;32m    309\u001b[0m                     \u001b[0mstacklevel\u001b[0m\u001b[1;33m=\u001b[0m\u001b[0mstacklevel\u001b[0m\u001b[1;33m,\u001b[0m\u001b[1;33m\u001b[0m\u001b[1;33m\u001b[0m\u001b[0m\n\u001b[0;32m    310\u001b[0m                 )\n\u001b[1;32m--> 311\u001b[1;33m             \u001b[1;32mreturn\u001b[0m \u001b[0mfunc\u001b[0m\u001b[1;33m(\u001b[0m\u001b[1;33m*\u001b[0m\u001b[0margs\u001b[0m\u001b[1;33m,\u001b[0m \u001b[1;33m**\u001b[0m\u001b[0mkwargs\u001b[0m\u001b[1;33m)\u001b[0m\u001b[1;33m\u001b[0m\u001b[1;33m\u001b[0m\u001b[0m\n\u001b[0m\u001b[0;32m    312\u001b[0m \u001b[1;33m\u001b[0m\u001b[0m\n\u001b[0;32m    313\u001b[0m         \u001b[1;32mreturn\u001b[0m \u001b[0mwrapper\u001b[0m\u001b[1;33m\u001b[0m\u001b[1;33m\u001b[0m\u001b[0m\n",
      "\u001b[1;32m~\\Anaconda3\\envs\\ml\\lib\\site-packages\\pandas\\io\\parsers\\readers.py\u001b[0m in \u001b[0;36mread_csv\u001b[1;34m(filepath_or_buffer, sep, delimiter, header, names, index_col, usecols, squeeze, prefix, mangle_dupe_cols, dtype, engine, converters, true_values, false_values, skipinitialspace, skiprows, skipfooter, nrows, na_values, keep_default_na, na_filter, verbose, skip_blank_lines, parse_dates, infer_datetime_format, keep_date_col, date_parser, dayfirst, cache_dates, iterator, chunksize, compression, thousands, decimal, lineterminator, quotechar, quoting, doublequote, escapechar, comment, encoding, encoding_errors, dialect, error_bad_lines, warn_bad_lines, on_bad_lines, delim_whitespace, low_memory, memory_map, float_precision, storage_options)\u001b[0m\n\u001b[0;32m    584\u001b[0m     \u001b[0mkwds\u001b[0m\u001b[1;33m.\u001b[0m\u001b[0mupdate\u001b[0m\u001b[1;33m(\u001b[0m\u001b[0mkwds_defaults\u001b[0m\u001b[1;33m)\u001b[0m\u001b[1;33m\u001b[0m\u001b[1;33m\u001b[0m\u001b[0m\n\u001b[0;32m    585\u001b[0m \u001b[1;33m\u001b[0m\u001b[0m\n\u001b[1;32m--> 586\u001b[1;33m     \u001b[1;32mreturn\u001b[0m \u001b[0m_read\u001b[0m\u001b[1;33m(\u001b[0m\u001b[0mfilepath_or_buffer\u001b[0m\u001b[1;33m,\u001b[0m \u001b[0mkwds\u001b[0m\u001b[1;33m)\u001b[0m\u001b[1;33m\u001b[0m\u001b[1;33m\u001b[0m\u001b[0m\n\u001b[0m\u001b[0;32m    587\u001b[0m \u001b[1;33m\u001b[0m\u001b[0m\n\u001b[0;32m    588\u001b[0m \u001b[1;33m\u001b[0m\u001b[0m\n",
      "\u001b[1;32m~\\Anaconda3\\envs\\ml\\lib\\site-packages\\pandas\\io\\parsers\\readers.py\u001b[0m in \u001b[0;36m_read\u001b[1;34m(filepath_or_buffer, kwds)\u001b[0m\n\u001b[0;32m    486\u001b[0m \u001b[1;33m\u001b[0m\u001b[0m\n\u001b[0;32m    487\u001b[0m     \u001b[1;32mwith\u001b[0m \u001b[0mparser\u001b[0m\u001b[1;33m:\u001b[0m\u001b[1;33m\u001b[0m\u001b[1;33m\u001b[0m\u001b[0m\n\u001b[1;32m--> 488\u001b[1;33m         \u001b[1;32mreturn\u001b[0m \u001b[0mparser\u001b[0m\u001b[1;33m.\u001b[0m\u001b[0mread\u001b[0m\u001b[1;33m(\u001b[0m\u001b[0mnrows\u001b[0m\u001b[1;33m)\u001b[0m\u001b[1;33m\u001b[0m\u001b[1;33m\u001b[0m\u001b[0m\n\u001b[0m\u001b[0;32m    489\u001b[0m \u001b[1;33m\u001b[0m\u001b[0m\n\u001b[0;32m    490\u001b[0m \u001b[1;33m\u001b[0m\u001b[0m\n",
      "\u001b[1;32m~\\Anaconda3\\envs\\ml\\lib\\site-packages\\pandas\\io\\parsers\\readers.py\u001b[0m in \u001b[0;36mread\u001b[1;34m(self, nrows)\u001b[0m\n\u001b[0;32m   1057\u001b[0m             \u001b[0mnew_rows\u001b[0m \u001b[1;33m=\u001b[0m \u001b[0mlen\u001b[0m\u001b[1;33m(\u001b[0m\u001b[0mindex\u001b[0m\u001b[1;33m)\u001b[0m\u001b[1;33m\u001b[0m\u001b[1;33m\u001b[0m\u001b[0m\n\u001b[0;32m   1058\u001b[0m \u001b[1;33m\u001b[0m\u001b[0m\n\u001b[1;32m-> 1059\u001b[1;33m         \u001b[0mdf\u001b[0m \u001b[1;33m=\u001b[0m \u001b[0mDataFrame\u001b[0m\u001b[1;33m(\u001b[0m\u001b[0mcol_dict\u001b[0m\u001b[1;33m,\u001b[0m \u001b[0mcolumns\u001b[0m\u001b[1;33m=\u001b[0m\u001b[0mcolumns\u001b[0m\u001b[1;33m,\u001b[0m \u001b[0mindex\u001b[0m\u001b[1;33m=\u001b[0m\u001b[0mindex\u001b[0m\u001b[1;33m)\u001b[0m\u001b[1;33m\u001b[0m\u001b[1;33m\u001b[0m\u001b[0m\n\u001b[0m\u001b[0;32m   1060\u001b[0m \u001b[1;33m\u001b[0m\u001b[0m\n\u001b[0;32m   1061\u001b[0m         \u001b[0mself\u001b[0m\u001b[1;33m.\u001b[0m\u001b[0m_currow\u001b[0m \u001b[1;33m+=\u001b[0m \u001b[0mnew_rows\u001b[0m\u001b[1;33m\u001b[0m\u001b[1;33m\u001b[0m\u001b[0m\n",
      "\u001b[1;32m~\\Anaconda3\\envs\\ml\\lib\\site-packages\\pandas\\core\\frame.py\u001b[0m in \u001b[0;36m__init__\u001b[1;34m(self, data, index, columns, dtype, copy)\u001b[0m\n\u001b[0;32m    612\u001b[0m         \u001b[1;32melif\u001b[0m \u001b[0misinstance\u001b[0m\u001b[1;33m(\u001b[0m\u001b[0mdata\u001b[0m\u001b[1;33m,\u001b[0m \u001b[0mdict\u001b[0m\u001b[1;33m)\u001b[0m\u001b[1;33m:\u001b[0m\u001b[1;33m\u001b[0m\u001b[1;33m\u001b[0m\u001b[0m\n\u001b[0;32m    613\u001b[0m             \u001b[1;31m# GH#38939 de facto copy defaults to False only in non-dict cases\u001b[0m\u001b[1;33m\u001b[0m\u001b[1;33m\u001b[0m\u001b[0m\n\u001b[1;32m--> 614\u001b[1;33m             \u001b[0mmgr\u001b[0m \u001b[1;33m=\u001b[0m \u001b[0mdict_to_mgr\u001b[0m\u001b[1;33m(\u001b[0m\u001b[0mdata\u001b[0m\u001b[1;33m,\u001b[0m \u001b[0mindex\u001b[0m\u001b[1;33m,\u001b[0m \u001b[0mcolumns\u001b[0m\u001b[1;33m,\u001b[0m \u001b[0mdtype\u001b[0m\u001b[1;33m=\u001b[0m\u001b[0mdtype\u001b[0m\u001b[1;33m,\u001b[0m \u001b[0mcopy\u001b[0m\u001b[1;33m=\u001b[0m\u001b[0mcopy\u001b[0m\u001b[1;33m,\u001b[0m \u001b[0mtyp\u001b[0m\u001b[1;33m=\u001b[0m\u001b[0mmanager\u001b[0m\u001b[1;33m)\u001b[0m\u001b[1;33m\u001b[0m\u001b[1;33m\u001b[0m\u001b[0m\n\u001b[0m\u001b[0;32m    615\u001b[0m         \u001b[1;32melif\u001b[0m \u001b[0misinstance\u001b[0m\u001b[1;33m(\u001b[0m\u001b[0mdata\u001b[0m\u001b[1;33m,\u001b[0m \u001b[0mma\u001b[0m\u001b[1;33m.\u001b[0m\u001b[0mMaskedArray\u001b[0m\u001b[1;33m)\u001b[0m\u001b[1;33m:\u001b[0m\u001b[1;33m\u001b[0m\u001b[1;33m\u001b[0m\u001b[0m\n\u001b[0;32m    616\u001b[0m             \u001b[1;32mimport\u001b[0m \u001b[0mnumpy\u001b[0m\u001b[1;33m.\u001b[0m\u001b[0mma\u001b[0m\u001b[1;33m.\u001b[0m\u001b[0mmrecords\u001b[0m \u001b[1;32mas\u001b[0m \u001b[0mmrecords\u001b[0m\u001b[1;33m\u001b[0m\u001b[1;33m\u001b[0m\u001b[0m\n",
      "\u001b[1;32m~\\Anaconda3\\envs\\ml\\lib\\site-packages\\pandas\\core\\internals\\construction.py\u001b[0m in \u001b[0;36mdict_to_mgr\u001b[1;34m(data, index, columns, dtype, typ, copy)\u001b[0m\n\u001b[0;32m    462\u001b[0m         \u001b[1;31m# TODO: can we get rid of the dt64tz special case above?\u001b[0m\u001b[1;33m\u001b[0m\u001b[1;33m\u001b[0m\u001b[0m\n\u001b[0;32m    463\u001b[0m \u001b[1;33m\u001b[0m\u001b[0m\n\u001b[1;32m--> 464\u001b[1;33m     return arrays_to_mgr(\n\u001b[0m\u001b[0;32m    465\u001b[0m         \u001b[0marrays\u001b[0m\u001b[1;33m,\u001b[0m \u001b[0mdata_names\u001b[0m\u001b[1;33m,\u001b[0m \u001b[0mindex\u001b[0m\u001b[1;33m,\u001b[0m \u001b[0mcolumns\u001b[0m\u001b[1;33m,\u001b[0m \u001b[0mdtype\u001b[0m\u001b[1;33m=\u001b[0m\u001b[0mdtype\u001b[0m\u001b[1;33m,\u001b[0m \u001b[0mtyp\u001b[0m\u001b[1;33m=\u001b[0m\u001b[0mtyp\u001b[0m\u001b[1;33m,\u001b[0m \u001b[0mconsolidate\u001b[0m\u001b[1;33m=\u001b[0m\u001b[0mcopy\u001b[0m\u001b[1;33m\u001b[0m\u001b[1;33m\u001b[0m\u001b[0m\n\u001b[0;32m    466\u001b[0m     )\n",
      "\u001b[1;32m~\\Anaconda3\\envs\\ml\\lib\\site-packages\\pandas\\core\\internals\\construction.py\u001b[0m in \u001b[0;36marrays_to_mgr\u001b[1;34m(arrays, arr_names, index, columns, dtype, verify_integrity, typ, consolidate)\u001b[0m\n\u001b[0;32m    133\u001b[0m \u001b[1;33m\u001b[0m\u001b[0m\n\u001b[0;32m    134\u001b[0m     \u001b[1;32mif\u001b[0m \u001b[0mtyp\u001b[0m \u001b[1;33m==\u001b[0m \u001b[1;34m\"block\"\u001b[0m\u001b[1;33m:\u001b[0m\u001b[1;33m\u001b[0m\u001b[1;33m\u001b[0m\u001b[0m\n\u001b[1;32m--> 135\u001b[1;33m         return create_block_manager_from_arrays(\n\u001b[0m\u001b[0;32m    136\u001b[0m             \u001b[0marrays\u001b[0m\u001b[1;33m,\u001b[0m \u001b[0marr_names\u001b[0m\u001b[1;33m,\u001b[0m \u001b[0maxes\u001b[0m\u001b[1;33m,\u001b[0m \u001b[0mconsolidate\u001b[0m\u001b[1;33m=\u001b[0m\u001b[0mconsolidate\u001b[0m\u001b[1;33m\u001b[0m\u001b[1;33m\u001b[0m\u001b[0m\n\u001b[0;32m    137\u001b[0m         )\n",
      "\u001b[1;32m~\\Anaconda3\\envs\\ml\\lib\\site-packages\\pandas\\core\\internals\\managers.py\u001b[0m in \u001b[0;36mcreate_block_manager_from_arrays\u001b[1;34m(arrays, names, axes, consolidate)\u001b[0m\n\u001b[0;32m   1771\u001b[0m \u001b[1;33m\u001b[0m\u001b[0m\n\u001b[0;32m   1772\u001b[0m     \u001b[1;32mtry\u001b[0m\u001b[1;33m:\u001b[0m\u001b[1;33m\u001b[0m\u001b[1;33m\u001b[0m\u001b[0m\n\u001b[1;32m-> 1773\u001b[1;33m         \u001b[0mblocks\u001b[0m \u001b[1;33m=\u001b[0m \u001b[0m_form_blocks\u001b[0m\u001b[1;33m(\u001b[0m\u001b[0marrays\u001b[0m\u001b[1;33m,\u001b[0m \u001b[0mnames\u001b[0m\u001b[1;33m,\u001b[0m \u001b[0maxes\u001b[0m\u001b[1;33m,\u001b[0m \u001b[0mconsolidate\u001b[0m\u001b[1;33m)\u001b[0m\u001b[1;33m\u001b[0m\u001b[1;33m\u001b[0m\u001b[0m\n\u001b[0m\u001b[0;32m   1774\u001b[0m         \u001b[0mmgr\u001b[0m \u001b[1;33m=\u001b[0m \u001b[0mBlockManager\u001b[0m\u001b[1;33m(\u001b[0m\u001b[0mblocks\u001b[0m\u001b[1;33m,\u001b[0m \u001b[0maxes\u001b[0m\u001b[1;33m)\u001b[0m\u001b[1;33m\u001b[0m\u001b[1;33m\u001b[0m\u001b[0m\n\u001b[0;32m   1775\u001b[0m     \u001b[1;32mexcept\u001b[0m \u001b[0mValueError\u001b[0m \u001b[1;32mas\u001b[0m \u001b[0me\u001b[0m\u001b[1;33m:\u001b[0m\u001b[1;33m\u001b[0m\u001b[1;33m\u001b[0m\u001b[0m\n",
      "\u001b[1;32m~\\Anaconda3\\envs\\ml\\lib\\site-packages\\pandas\\core\\internals\\managers.py\u001b[0m in \u001b[0;36m_form_blocks\u001b[1;34m(arrays, names, axes, consolidate)\u001b[0m\n\u001b[0;32m   1836\u001b[0m     \u001b[0mblocks\u001b[0m\u001b[1;33m:\u001b[0m \u001b[0mlist\u001b[0m\u001b[1;33m[\u001b[0m\u001b[0mBlock\u001b[0m\u001b[1;33m]\u001b[0m \u001b[1;33m=\u001b[0m \u001b[1;33m[\u001b[0m\u001b[1;33m]\u001b[0m\u001b[1;33m\u001b[0m\u001b[1;33m\u001b[0m\u001b[0m\n\u001b[0;32m   1837\u001b[0m     \u001b[1;32mif\u001b[0m \u001b[0mlen\u001b[0m\u001b[1;33m(\u001b[0m\u001b[0mitems_dict\u001b[0m\u001b[1;33m[\u001b[0m\u001b[1;34m\"NumericBlock\"\u001b[0m\u001b[1;33m]\u001b[0m\u001b[1;33m)\u001b[0m\u001b[1;33m:\u001b[0m\u001b[1;33m\u001b[0m\u001b[1;33m\u001b[0m\u001b[0m\n\u001b[1;32m-> 1838\u001b[1;33m         numeric_blocks = _multi_blockify(\n\u001b[0m\u001b[0;32m   1839\u001b[0m             \u001b[0mitems_dict\u001b[0m\u001b[1;33m[\u001b[0m\u001b[1;34m\"NumericBlock\"\u001b[0m\u001b[1;33m]\u001b[0m\u001b[1;33m,\u001b[0m \u001b[0mconsolidate\u001b[0m\u001b[1;33m=\u001b[0m\u001b[0mconsolidate\u001b[0m\u001b[1;33m\u001b[0m\u001b[1;33m\u001b[0m\u001b[0m\n\u001b[0;32m   1840\u001b[0m         )\n",
      "\u001b[1;32m~\\Anaconda3\\envs\\ml\\lib\\site-packages\\pandas\\core\\internals\\managers.py\u001b[0m in \u001b[0;36m_multi_blockify\u001b[1;34m(tuples, dtype, consolidate)\u001b[0m\n\u001b[0;32m   1926\u001b[0m         \u001b[1;31m# \"Union[ExtensionDtype, str, dtype[Any], Type[str], Type[float], Type[int],\u001b[0m\u001b[1;33m\u001b[0m\u001b[1;33m\u001b[0m\u001b[0m\n\u001b[0;32m   1927\u001b[0m         \u001b[1;31m# Type[complex], Type[bool], Type[object], None]\"; expected \"dtype[Any]\"\u001b[0m\u001b[1;33m\u001b[0m\u001b[1;33m\u001b[0m\u001b[0m\n\u001b[1;32m-> 1928\u001b[1;33m         values, placement = _stack_arrays(\n\u001b[0m\u001b[0;32m   1929\u001b[0m             \u001b[0mlist\u001b[0m\u001b[1;33m(\u001b[0m\u001b[0mtup_block\u001b[0m\u001b[1;33m)\u001b[0m\u001b[1;33m,\u001b[0m \u001b[0mdtype\u001b[0m  \u001b[1;31m# type: ignore[arg-type]\u001b[0m\u001b[1;33m\u001b[0m\u001b[1;33m\u001b[0m\u001b[0m\n\u001b[0;32m   1930\u001b[0m         )\n",
      "\u001b[1;32m~\\Anaconda3\\envs\\ml\\lib\\site-packages\\pandas\\core\\internals\\managers.py\u001b[0m in \u001b[0;36m_stack_arrays\u001b[1;34m(tuples, dtype)\u001b[0m\n\u001b[0;32m   1955\u001b[0m     \u001b[0mshape\u001b[0m \u001b[1;33m=\u001b[0m \u001b[1;33m(\u001b[0m\u001b[0mlen\u001b[0m\u001b[1;33m(\u001b[0m\u001b[0marrays\u001b[0m\u001b[1;33m)\u001b[0m\u001b[1;33m,\u001b[0m\u001b[1;33m)\u001b[0m \u001b[1;33m+\u001b[0m \u001b[0mfirst\u001b[0m\u001b[1;33m.\u001b[0m\u001b[0mshape\u001b[0m\u001b[1;33m\u001b[0m\u001b[1;33m\u001b[0m\u001b[0m\n\u001b[0;32m   1956\u001b[0m \u001b[1;33m\u001b[0m\u001b[0m\n\u001b[1;32m-> 1957\u001b[1;33m     \u001b[0mstacked\u001b[0m \u001b[1;33m=\u001b[0m \u001b[0mnp\u001b[0m\u001b[1;33m.\u001b[0m\u001b[0mempty\u001b[0m\u001b[1;33m(\u001b[0m\u001b[0mshape\u001b[0m\u001b[1;33m,\u001b[0m \u001b[0mdtype\u001b[0m\u001b[1;33m=\u001b[0m\u001b[0mdtype\u001b[0m\u001b[1;33m)\u001b[0m\u001b[1;33m\u001b[0m\u001b[1;33m\u001b[0m\u001b[0m\n\u001b[0m\u001b[0;32m   1958\u001b[0m     \u001b[1;32mfor\u001b[0m \u001b[0mi\u001b[0m\u001b[1;33m,\u001b[0m \u001b[0marr\u001b[0m \u001b[1;32min\u001b[0m \u001b[0menumerate\u001b[0m\u001b[1;33m(\u001b[0m\u001b[0marrays\u001b[0m\u001b[1;33m)\u001b[0m\u001b[1;33m:\u001b[0m\u001b[1;33m\u001b[0m\u001b[1;33m\u001b[0m\u001b[0m\n\u001b[0;32m   1959\u001b[0m         \u001b[0mstacked\u001b[0m\u001b[1;33m[\u001b[0m\u001b[0mi\u001b[0m\u001b[1;33m]\u001b[0m \u001b[1;33m=\u001b[0m \u001b[0marr\u001b[0m\u001b[1;33m\u001b[0m\u001b[1;33m\u001b[0m\u001b[0m\n",
      "\u001b[1;31mMemoryError\u001b[0m: Unable to allocate 2.06 GiB for an array with shape (5, 55423856) and data type float64"
     ]
    }
   ],
   "source": [
    "df_train = pd.read_csv(\"train.csv\")\n",
    "df_test = pd.read_csv(\"test.csv\")"
   ]
  },
  {
   "cell_type": "code",
   "execution_count": null,
   "id": "0409b353",
   "metadata": {},
   "outputs": [],
   "source": [
    "#displaying the first 5 rows of train \n",
    "df_train.head()"
   ]
  },
  {
   "cell_type": "code",
   "execution_count": null,
   "id": "652746f0",
   "metadata": {},
   "outputs": [],
   "source": [
    "#displaying the first 5 rows of test\n",
    "df_test.head()"
   ]
  },
  {
   "cell_type": "code",
   "execution_count": null,
   "id": "e0699057",
   "metadata": {},
   "outputs": [],
   "source": [
    "#shape of df_train\n",
    "print(\"df_train shape:\",df_train.shape)\n",
    "#shape of df_test\n",
    "print(\"df_test shape:\", df_test.shape)"
   ]
  },
  {
   "cell_type": "markdown",
   "id": "8796fd68",
   "metadata": {},
   "source": [
    "The test has one column lesser than train set as the test set does not contain the labels."
   ]
  },
  {
   "cell_type": "code",
   "execution_count": null,
   "id": "9e967fe8",
   "metadata": {},
   "outputs": [],
   "source": [
    "columns = df_train.columns\n",
    "print(\"Columns:\", list(columns))\n",
    "print(\"Length of Columns:\", len(columns))"
   ]
  },
  {
   "cell_type": "markdown",
   "id": "3e32cbdc",
   "metadata": {},
   "source": [
    "## Data Cleaning"
   ]
  },
  {
   "cell_type": "markdown",
   "id": "08573cd0",
   "metadata": {},
   "source": [
    "### Deleting the rows where pickup/dropoff_datetime, pickup/dropoff_longitude, pickup/dropoff_latitude are 0"
   ]
  },
  {
   "cell_type": "code",
   "execution_count": null,
   "id": "f402530b",
   "metadata": {},
   "outputs": [],
   "source": [
    "df_train_copy = df_train.copy()\n",
    "train_wo_zeros = df_train_copy[(df_train_copy.pickup_datetime != 0) & (df_train_copy.pickup_latitude != 0) & (df_train_copy.dropoff_latitude != 0) & (df_train_copy.pickup_longitude != 0) & (df_train_copy.dropoff_longitude != 0)]\n",
    "train_wo_zeros"
   ]
  },
  {
   "cell_type": "code",
   "execution_count": null,
   "id": "efdc663b",
   "metadata": {},
   "outputs": [],
   "source": [
    "print(\"Shape of df initially:\", df_train.shape)\n",
    "print(\"Shape after removing rows with 4 0s:\", train_wo_zeros.shape)\n",
    "print(\"Number of rows with 4 0s:\", df_train.shape[0] - train_wo_zeros.shape[0])"
   ]
  },
  {
   "cell_type": "code",
   "execution_count": null,
   "id": "ca1eab61",
   "metadata": {},
   "outputs": [],
   "source": [
    "#Resetting the index, inplace to make sure the indexes are all correct\n",
    "train_wo_zeros.reset_index(inplace=True)\n",
    "train_wo_zeros.tail()"
   ]
  },
  {
   "cell_type": "markdown",
   "id": "c5794096",
   "metadata": {},
   "source": [
    "### Dealing with Null Values"
   ]
  },
  {
   "cell_type": "code",
   "execution_count": null,
   "id": "e9eb3689",
   "metadata": {},
   "outputs": [],
   "source": [
    "#checking which columns have NaN values\n",
    "train_wo_zeros.isnull().any()"
   ]
  },
  {
   "cell_type": "markdown",
   "id": "847c3a04",
   "metadata": {},
   "source": [
    "Therefore, dropoff_longitude and dropoff_latitude have NaN in them."
   ]
  },
  {
   "cell_type": "code",
   "execution_count": null,
   "id": "183453fc",
   "metadata": {},
   "outputs": [],
   "source": [
    "nan_rows_lat = train_wo_zeros[train_wo_zeros['dropoff_latitude'].isnull()]\n",
    "nan_rows_long = train_wo_zeros[train_wo_zeros['dropoff_longitude'].isnull()]\n",
    "\n",
    "print(\"nan_rows_lat:\", nan_rows_lat)\n",
    "print(\"# of rows:\", nan_rows_lat.shape[0])\n",
    "\n",
    "print(\"nan_rows_long:\", nan_rows_long)\n",
    "print(\"# of rows:\", nan_rows_long.shape[0])"
   ]
  },
  {
   "cell_type": "code",
   "execution_count": null,
   "id": "c54e8038",
   "metadata": {},
   "outputs": [],
   "source": [
    "nan_rows_lat_idx = list(nan_rows_lat.index)\n",
    "nan_rows_long_idx = list(nan_rows_long.index)"
   ]
  },
  {
   "cell_type": "code",
   "execution_count": null,
   "id": "8e953e95",
   "metadata": {},
   "outputs": [],
   "source": [
    "#viewing one particular row to analyse it further\n",
    "train_wo_zeros.iloc[nan_rows_lat_idx[0]]"
   ]
  },
  {
   "cell_type": "code",
   "execution_count": null,
   "id": "f06bad68",
   "metadata": {},
   "outputs": [],
   "source": [
    "#checking if both nan_rows_lat_idx and nan_rows_long_idx are the same\n",
    "if nan_rows_lat_idx == nan_rows_long_idx:\n",
    "    print(\"Both the Lists are identical! Therefore, just using one list will do!\")\n",
    "else:\n",
    "    print(\"Both lists are not identical! Hence, we need to account for repeated row indices!\")"
   ]
  },
  {
   "cell_type": "markdown",
   "id": "1e71aade",
   "metadata": {},
   "source": [
    "The lists nan_rows_lat_idx and nan_rows_long_idx contain the indices of the rows that contain both dropoff_latitude and dropoff_longitude as NaN. There is no case where either one of them is a NaN and the other one if a valid value, this is because, form the test above, both the lists are identical, whoch means the row indices are exact same, hence, there exists only the case where either both of the column's vlaues are NaN or None of it. Hence, we will just be using the nan_rows_lat_idx to remove the rows that contain NaN."
   ]
  },
  {
   "cell_type": "code",
   "execution_count": null,
   "id": "c8d1f304",
   "metadata": {},
   "outputs": [],
   "source": [
    "#creating a copy of the existing df\n",
    "train_wo_nan = train_wo_zeros.copy()"
   ]
  },
  {
   "cell_type": "code",
   "execution_count": null,
   "id": "93ea9452",
   "metadata": {},
   "outputs": [],
   "source": [
    "#dropping the rows with NaN\n",
    "train_wo_nan.drop(axis=0, index=nan_rows_lat_idx,inplace=True)\n",
    "\n",
    "#resetting the index\n",
    "train_wo_nan.reset_index(inplace=True)"
   ]
  },
  {
   "cell_type": "code",
   "execution_count": null,
   "id": "b9730a92",
   "metadata": {},
   "outputs": [],
   "source": [
    "#Math to check \n",
    "NUM_NAN_ROWS = len(nan_rows_lat_idx)\n",
    "\n",
    "print(\"Number of rows before dropping NaN rows:\", train_wo_zeros.shape[0])\n",
    "\n",
    "if train_wo_zeros.shape[0] - train_wo_nan.shape[0] == NUM_NAN_ROWS:\n",
    "    print(\"Successfully dropped \", NUM_NAN_ROWS, \"rows!\")\n",
    "    print(\"Number of rows in train_wo_nan:\", train_wo_nan.shape[0])\n",
    "else:\n",
    "    print(\"Error! Dropped Wrong Number of Rows!\")"
   ]
  },
  {
   "cell_type": "code",
   "execution_count": null,
   "id": "f2c6b361",
   "metadata": {},
   "outputs": [],
   "source": [
    "#removing columns that were unintentionally added at the backend \n",
    "train_wo_nan.drop(['level_0','index'], axis = 1, inplace=True)"
   ]
  },
  {
   "cell_type": "code",
   "execution_count": null,
   "id": "16a7ba58",
   "metadata": {},
   "outputs": [],
   "source": [
    "train_wo_nan"
   ]
  },
  {
   "cell_type": "code",
   "execution_count": null,
   "id": "60c359eb",
   "metadata": {},
   "outputs": [],
   "source": [
    "#cross-checking if there are any NaN values at all\n",
    "train_wo_nan.isnull().any()"
   ]
  },
  {
   "cell_type": "markdown",
   "id": "643e3cfe",
   "metadata": {},
   "source": [
    "### Dealing with passenger_count == 0"
   ]
  },
  {
   "cell_type": "code",
   "execution_count": null,
   "id": "3e363669",
   "metadata": {},
   "outputs": [],
   "source": [
    "#checking if there are any rows where the passenger_count == 0\n",
    "(train_wo_nan['passenger_count'] == 0).any()"
   ]
  },
  {
   "cell_type": "markdown",
   "id": "6766f1cd",
   "metadata": {},
   "source": [
    "Since the output is True, it means that there are rows where the passenger_count == 0. Let's look deeper into this!"
   ]
  },
  {
   "cell_type": "code",
   "execution_count": null,
   "id": "7f550880",
   "metadata": {},
   "outputs": [],
   "source": [
    "count = (train_wo_nan['passenger_count'] == 0).sum()\n",
    "print(\"Number of 0s in passenger_count:\", count)"
   ]
  },
  {
   "cell_type": "code",
   "execution_count": null,
   "id": "d0336fce",
   "metadata": {},
   "outputs": [],
   "source": [
    "zero_values = train_wo_nan[train_wo_nan['passenger_count'] == 0]\n",
    "zero_values"
   ]
  },
  {
   "cell_type": "code",
   "execution_count": null,
   "id": "c9902572",
   "metadata": {},
   "outputs": [],
   "source": [
    "#Obtaining the indices of rows where passenger_count == 0 and converting it into a list\n",
    "zero_values_idx = list(zero_values.index)\n",
    "zero_values_idx"
   ]
  },
  {
   "cell_type": "code",
   "execution_count": null,
   "id": "af39a2e6",
   "metadata": {},
   "outputs": [],
   "source": [
    "pass_count_dropped = train_wo_nan.copy()"
   ]
  },
  {
   "cell_type": "code",
   "execution_count": null,
   "id": "29b476c5",
   "metadata": {},
   "outputs": [],
   "source": [
    "#dropping the rows\n",
    "pass_count_dropped.drop(axis=0, index=zero_values_idx,inplace=True)\n",
    "\n",
    "#resetting the index\n",
    "pass_count_dropped.reset_index(inplace=True)\n",
    "\n",
    "pass_count_dropped"
   ]
  },
  {
   "cell_type": "code",
   "execution_count": null,
   "id": "fbb4019c",
   "metadata": {},
   "outputs": [],
   "source": [
    "NUM_PASS_COUNT_0 = len(zero_values_idx)\n",
    "print(\"Number of rows before dropping passenger_count == 0 rows:\", train_wo_nan.shape[0])\n",
    "\n",
    "if (train_wo_nan.shape[0] - pass_count_dropped.shape[0] == NUM_PASS_COUNT_0):\n",
    "    print(\"Successfully dropped \", NUM_PASS_COUNT_0, \"rows!\")\n",
    "    print(\"Number of rows in pass_count_dropped:\", pass_count_dropped.shape[0])\n",
    "else:\n",
    "    print(\"Error! Dropped Wrong Number of Rows!\")"
   ]
  },
  {
   "cell_type": "code",
   "execution_count": null,
   "id": "5655083f",
   "metadata": {},
   "outputs": [],
   "source": [
    "#Dropping unnecessary columns from the df \n",
    "pass_count_dropped.drop(['index'], axis = 1, inplace=True)\n",
    "pass_count_dropped"
   ]
  },
  {
   "cell_type": "code",
   "execution_count": null,
   "id": "a3ae33fc",
   "metadata": {},
   "outputs": [],
   "source": [
    "#checking if passenger_count == 0 still exists\n",
    "(pass_count_dropped['passenger_count'] == 0).any()"
   ]
  },
  {
   "cell_type": "markdown",
   "id": "aea622de",
   "metadata": {},
   "source": [
    "Since, the output is False, it means that there are no more rows where passenger_count == 0."
   ]
  },
  {
   "cell_type": "markdown",
   "id": "9dc8c671",
   "metadata": {},
   "source": [
    "### Visualising Passenger Count"
   ]
  },
  {
   "cell_type": "markdown",
   "id": "28169f80",
   "metadata": {},
   "source": [
    "We would like to visualise the distribution of passenger_count to check if there are any logical discrepancies. According to this source, by law an NYC Taxi is allowed to carry only 4 passengers and 5 passengers, if it is a 5 seater car. Passenger Count of greater than 5 is only allowed if children aged 7 or above are seated on the laps of the adult passenger. \n",
    "\n",
    "Hence, if the maximum number of adults seated is 5, then the maximum number of passengers in a taxi will be 5 + 5 = 10, assuming that each adult seated has a child he/she is holding onto.\n",
    "\n",
    "Hence, to ensure that this logic is not violated, we aim to visualise the distribution of the passenger_count variable and remove rows that contain values gretaer than 10.\n",
    "\n",
    "Link: https://www.google.com/urlsa=t&rct=j&q=&esrc=s&source=web&cd=&cad=rja&uact=8&ved=2ahUKEwiew7PRucj2AhUjSWwGHZjiD_QQFnoECAsQAw&url=https%3A%2F%2Fwww1.nyc.gov%2Fsite%2Ftlc%2Fpassengers%2Fpassenger-frequently-askedquestions.page&usg=AOvVaw0lJJHgeBfD9Fi_4wir5Bgl"
   ]
  },
  {
   "cell_type": "code",
   "execution_count": null,
   "id": "629e7d72",
   "metadata": {},
   "outputs": [],
   "source": [
    "#extracting only the passeneger_count variable as a dataframe\n",
    "passenger_count = pass_count_dropped[['passenger_count']]\n",
    "\n",
    "print(type(passenger_count))"
   ]
  },
  {
   "cell_type": "code",
   "execution_count": null,
   "id": "3837a7a4",
   "metadata": {},
   "outputs": [],
   "source": [
    "#analysing the inputs in the passenger_count column\n",
    "passenger_count.value_counts()"
   ]
  },
  {
   "cell_type": "code",
   "execution_count": null,
   "id": "1b52b286",
   "metadata": {},
   "outputs": [],
   "source": [
    "#Plotting a Countplot\n",
    "sb.set_theme(style=\"darkgrid\")\n",
    "ax = sb.countplot(x=\"passenger_count\",data=passenger_count)"
   ]
  },
  {
   "cell_type": "markdown",
   "id": "af8a943e",
   "metadata": {},
   "source": [
    "As we can see, majority of the records have only 1 passenger. However, there seem to be records that have 34, 129 and 208 passengers in the taxi. This is not logically possible, hence, this rows will be removed."
   ]
  },
  {
   "cell_type": "code",
   "execution_count": null,
   "id": "5741a63a",
   "metadata": {},
   "outputs": [],
   "source": [
    "final_pass_count = pass_count_dropped.copy()"
   ]
  },
  {
   "cell_type": "code",
   "execution_count": null,
   "id": "7e233d62",
   "metadata": {},
   "outputs": [],
   "source": [
    "illogical_rows= final_pass_count[(final_pass_count['passenger_count'] == 34) | (final_pass_count['passenger_count'] == 129) | (final_pass_count['passenger_count'] == 208)]\n",
    "illogical_rows"
   ]
  },
  {
   "cell_type": "code",
   "execution_count": null,
   "id": "2995e965",
   "metadata": {},
   "outputs": [],
   "source": [
    "print(\"Number of illogical rows:\", illogical_rows.shape[0])"
   ]
  },
  {
   "cell_type": "code",
   "execution_count": null,
   "id": "984d2d2d",
   "metadata": {},
   "outputs": [],
   "source": [
    "illogical_rows_idx = list(illogical_rows.index)\n",
    "NUM_ILLOGICAL_ROWS = len(illogical_rows_idx)\n",
    "NUM_ILLOGICAL_ROWS"
   ]
  },
  {
   "cell_type": "code",
   "execution_count": null,
   "id": "a2b4c36b",
   "metadata": {},
   "outputs": [],
   "source": [
    "#dropping the rows\n",
    "final_pass_count.drop(axis=0, index=illogical_rows_idx,inplace=True)\n",
    "\n",
    "#resetting the index\n",
    "final_pass_count.reset_index(inplace=True)\n",
    "\n",
    "final_pass_count"
   ]
  },
  {
   "cell_type": "code",
   "execution_count": null,
   "id": "6a068d5f",
   "metadata": {},
   "outputs": [],
   "source": [
    "print(\"Number of rows before dropping passenger_count == 34,129,208 rows:\", pass_count_dropped.shape[0])\n",
    "\n",
    "if (pass_count_dropped.shape[0] - final_pass_count.shape[0] == NUM_ILLOGICAL_ROWS):\n",
    "    print(\"Successfully dropped \", NUM_ILLOGICAL_ROWS, \"rows!\")\n",
    "    print(\"Number of rows in final_pass_count:\", final_pass_count.shape[0])\n",
    "else:\n",
    "    print(\"Error! Dropped Wrong Number of Rows!\")"
   ]
  },
  {
   "cell_type": "code",
   "execution_count": null,
   "id": "95923e23",
   "metadata": {},
   "outputs": [],
   "source": [
    "#Dropping unnecessary columns from the df \n",
    "final_pass_count.drop(['index'], axis = 1, inplace=True)\n",
    "final_pass_count"
   ]
  },
  {
   "cell_type": "code",
   "execution_count": null,
   "id": "94dc26f8",
   "metadata": {},
   "outputs": [],
   "source": [
    "#Visualising passenger_count again to cross-check\n",
    "final_pass_count['passenger_count'].value_counts()"
   ]
  },
  {
   "cell_type": "code",
   "execution_count": null,
   "id": "b1c6e74e",
   "metadata": {},
   "outputs": [],
   "source": [
    "#Plotting a Countplot\n",
    "sb.set_theme(style=\"darkgrid\")\n",
    "ax = sb.countplot(x=\"passenger_count\",data=final_pass_count)"
   ]
  },
  {
   "cell_type": "markdown",
   "id": "a73166aa",
   "metadata": {},
   "source": [
    "### Cheking if the label has any Negative Values"
   ]
  },
  {
   "cell_type": "code",
   "execution_count": null,
   "id": "0c0a00eb",
   "metadata": {},
   "outputs": [],
   "source": [
    "final_fare_amt = final_pass_count.copy()"
   ]
  },
  {
   "cell_type": "code",
   "execution_count": null,
   "id": "916e0110",
   "metadata": {},
   "outputs": [],
   "source": [
    "#checking if there is any negative value in fare_amt\n",
    "(final_fare_amt['fare_amount'] < 0).any()"
   ]
  },
  {
   "cell_type": "markdown",
   "id": "761966a4",
   "metadata": {},
   "source": [
    "Therefore, there are negative values in the label, which are illogical."
   ]
  },
  {
   "cell_type": "code",
   "execution_count": null,
   "id": "692237a8",
   "metadata": {},
   "outputs": [],
   "source": [
    "negative_rows = final_fare_amt[final_fare_amt['fare_amount'] < 0]\n",
    "negative_rows"
   ]
  },
  {
   "cell_type": "code",
   "execution_count": null,
   "id": "498dfb9f",
   "metadata": {},
   "outputs": [],
   "source": [
    "negative_rows_idx = list(negative_rows.index)\n",
    "negative_rows_idx"
   ]
  },
  {
   "cell_type": "code",
   "execution_count": null,
   "id": "e042c72a",
   "metadata": {},
   "outputs": [],
   "source": [
    "#looking at a specific row \n",
    "final_fare_amt.iloc[negative_rows_idx[0]]"
   ]
  },
  {
   "cell_type": "code",
   "execution_count": null,
   "id": "dc07baf2",
   "metadata": {},
   "outputs": [],
   "source": [
    "#dropping the rows\n",
    "final_fare_amt.drop(axis=0, index=negative_rows_idx,inplace=True)\n",
    "\n",
    "#resetting the index\n",
    "final_fare_amt.reset_index(inplace=True)\n",
    "\n",
    "final_fare_amt"
   ]
  },
  {
   "cell_type": "code",
   "execution_count": null,
   "id": "2e8c5b9b",
   "metadata": {},
   "outputs": [],
   "source": [
    "NUM_NEGATIVE_FARE = len(negative_rows_idx)\n",
    "print(\"Number of rows before dropping fare_amt < 0:\", final_pass_count.shape[0])\n",
    "\n",
    "if (final_pass_count.shape[0] - final_fare_amt.shape[0] == NUM_NEGATIVE_FARE):\n",
    "    print(\"Successfully dropped \", NUM_NEGATIVE_FARE, \"rows!\")\n",
    "    print(\"Number of rows in final_fare_amount:\", final_fare_amt.shape[0])\n",
    "else:\n",
    "    print(\"Error! Dropped Wrong Number of Rows!\")"
   ]
  },
  {
   "cell_type": "code",
   "execution_count": null,
   "id": "99eba6a9",
   "metadata": {},
   "outputs": [],
   "source": [
    "#Dropping unnecessary columns from the df \n",
    "final_fare_amt.drop(['index'], axis = 1, inplace=True)\n",
    "final_fare_amt"
   ]
  },
  {
   "cell_type": "code",
   "execution_count": null,
   "id": "46d15fde",
   "metadata": {},
   "outputs": [],
   "source": [
    "#cross-checking if there is any negative value in fare_amt\n",
    "(final_fare_amt['fare_amount'] < 0).any()"
   ]
  },
  {
   "cell_type": "markdown",
   "id": "6cea4e5b",
   "metadata": {},
   "source": [
    "Things to do:\n",
    "1. Need to create a binary variable called weekend - to check if its a weekend or not\n",
    "2. Need to create a binary variable called holiday - to check if it is a public holiday or not\n",
    "3. Need to code for the equation -> need to read up on what model can be used!"
   ]
  },
  {
   "cell_type": "code",
   "execution_count": null,
   "id": "eb62b267",
   "metadata": {},
   "outputs": [],
   "source": []
  }
 ],
 "metadata": {
  "kernelspec": {
   "display_name": "ml",
   "language": "python",
   "name": "ml"
  },
  "language_info": {
   "codemirror_mode": {
    "name": "ipython",
    "version": 3
   },
   "file_extension": ".py",
   "mimetype": "text/x-python",
   "name": "python",
   "nbconvert_exporter": "python",
   "pygments_lexer": "ipython3",
   "version": "3.9.7"
  }
 },
 "nbformat": 4,
 "nbformat_minor": 5
}
